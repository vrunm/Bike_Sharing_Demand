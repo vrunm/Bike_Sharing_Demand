{
 "cells": [
  {
   "cell_type": "code",
   "execution_count": 2,
   "id": "593351fe",
   "metadata": {},
   "outputs": [],
   "source": [
    "import numpy as np\n",
    "import pandas as pd\n",
    "import matplotlib.pyplot as plt\n",
    "import seaborn as sns\n",
    "from sklearn.metrics import classification_report\n",
    "from sklearn.preprocessing import OneHotEncoder\n",
    "from sklearn.compose import ColumnTransformer\n",
    "from sklearn.pipeline import Pipeline"
   ]
  },
  {
   "cell_type": "code",
   "execution_count": 3,
   "id": "a573e5c6",
   "metadata": {},
   "outputs": [],
   "source": [
    "train_df = pd.read_csv(\"test.csv\", index_col=0)\n",
    "train_df.drop(\"id\", axis=1, inplace=True)\n",
    "test_df = pd.read_csv(\"train.csv\", index_col=0)\n",
    "test_df.drop(\"id\", axis=1, inplace=True)"
   ]
  },
  {
   "cell_type": "code",
   "execution_count": 13,
   "id": "0757ab57",
   "metadata": {},
   "outputs": [],
   "source": [
    "from sklearn.linear_model import LogisticRegression\n",
    "from sklearn.ensemble import RandomForestClassifier, VotingClassifier\n",
    "from sklearn.neighbors import KNeighborsClassifier\n",
    "from sklearn.tree import DecisionTreeClassifier\n",
    "from xgboost import XGBClassifier"
   ]
  },
  {
   "cell_type": "code",
   "execution_count": 5,
   "id": "4a0c28c9",
   "metadata": {},
   "outputs": [],
   "source": [
    "#Encoding the satisfaction manually to 0 for a neutral or dissatisfied customer and 1 for a satisfied customer.\n",
    "train_df[\"satisfaction\"] = train_df[\"satisfaction\"].map(\n",
    "    {\"satisfied\": 0, \"neutral or dissatisfied\": 1}\n",
    ")\n"
   ]
  },
  {
   "cell_type": "code",
   "execution_count": 6,
   "id": "ab6b0116",
   "metadata": {},
   "outputs": [],
   "source": [
    "#Creating the training dataset\n",
    "y_train = train_df[\"satisfaction\"]\n",
    "X_train = train_df.drop(\"satisfaction\", axis=1)"
   ]
  },
  {
   "cell_type": "code",
   "execution_count": 7,
   "id": "fd23a333",
   "metadata": {},
   "outputs": [],
   "source": [
    "#Creating the test datset\n",
    "test_df[\"satisfaction\"] = test_df[\"satisfaction\"].map(\n",
    "    {\"satisfied\": 0, \"neutral or dissatisfied\": 1}\n",
    ")\n",
    "\n",
    "y_test = train_df[\"satisfaction\"]\n",
    "X_test = train_df.drop(\"satisfaction\", axis=1)"
   ]
  },
  {
   "cell_type": "code",
   "execution_count": 14,
   "id": "a1a99258",
   "metadata": {},
   "outputs": [
    {
     "name": "stdout",
     "output_type": "stream",
     "text": [
      "DecisionTreeClassifier():\n",
      "              precision    recall  f1-score   support\n",
      "\n",
      "           0       0.69      0.78      0.73     10106\n",
      "           1       0.85      0.78      0.81     15870\n",
      "\n",
      "    accuracy                           0.78     25976\n",
      "   macro avg       0.77      0.78      0.77     25976\n",
      "weighted avg       0.79      0.78      0.78     25976\n",
      "\n",
      "RandomForestClassifier():\n",
      "              precision    recall  f1-score   support\n",
      "\n",
      "           0       0.69      0.78      0.73     10106\n",
      "           1       0.85      0.78      0.81     15870\n",
      "\n",
      "    accuracy                           0.78     25976\n",
      "   macro avg       0.77      0.78      0.77     25976\n",
      "weighted avg       0.79      0.78      0.78     25976\n",
      "\n",
      "LogisticRegression():\n",
      "              precision    recall  f1-score   support\n",
      "\n",
      "           0       0.79      0.72      0.76     12464\n",
      "           1       0.76      0.82      0.79     13512\n",
      "\n",
      "    accuracy                           0.78     25976\n",
      "   macro avg       0.78      0.77      0.77     25976\n",
      "weighted avg       0.78      0.78      0.78     25976\n",
      "\n",
      "KNeighborsClassifier():\n",
      "              precision    recall  f1-score   support\n",
      "\n",
      "           0       0.81      0.72      0.76     12870\n",
      "           1       0.75      0.83      0.79     13106\n",
      "\n",
      "    accuracy                           0.78     25976\n",
      "   macro avg       0.78      0.77      0.77     25976\n",
      "weighted avg       0.78      0.78      0.77     25976\n",
      "\n",
      "XGBClassifier(base_score=0.5, booster='gbtree', callbacks=None,\n",
      "              colsample_bylevel=1, colsample_bynode=1, colsample_bytree=1,\n",
      "              early_stopping_rounds=None, enable_categorical=False,\n",
      "              eval_metric=None, gamma=0, gpu_id=-1, grow_policy='depthwise',\n",
      "              importance_type=None, interaction_constraints='',\n",
      "              learning_rate=0.300000012, max_bin=256, max_cat_to_onehot=4,\n",
      "              max_delta_step=0, max_depth=6, max_leaves=0, min_child_weight=1,\n",
      "              missing=nan, monotone_constraints='()', n_estimators=100,\n",
      "              n_jobs=0, num_parallel_tree=1, predictor='auto', random_state=0,\n",
      "              reg_alpha=0, reg_lambda=1, ...):\n",
      "              precision    recall  f1-score   support\n",
      "\n",
      "           0       0.69      0.78      0.73     10106\n",
      "           1       0.85      0.78      0.81     15870\n",
      "\n",
      "    accuracy                           0.78     25976\n",
      "   macro avg       0.77      0.78      0.77     25976\n",
      "weighted avg       0.79      0.78      0.78     25976\n",
      "\n"
     ]
    }
   ],
   "source": [
    "# Using a sklearn pipeline\n",
    "nomimal_variables = [\"Gender\", \"Type of Travel\", \"Class\", \"Customer Type\"]\n",
    "nominal_encoder = OneHotEncoder(handle_unknown=\"ignore\")\n",
    "\n",
    "preprocessor = ColumnTransformer(\n",
    "    transformers=[\n",
    "        (\"nom_encode\", nominal_encoder, nomimal_variables),\n",
    "    ]\n",
    ")\n",
    "model_list = [\n",
    "    DecisionTreeClassifier(),\n",
    "    RandomForestClassifier(),\n",
    "    LogisticRegression(),\n",
    "    KNeighborsClassifier(),\n",
    "    XGBClassifier()\n",
    "]\n",
    "for model in model_list:\n",
    "    model_names = [\"Decision Tree\",\"Random Forest\",\"Logitic Regression\",\"KNN\",\"XGB\"]\n",
    "    clf = Pipeline(\n",
    "        steps=[\n",
    "            (\"prep\", preprocessor),\n",
    "            (\"model\", model),\n",
    "        ]\n",
    "    )\n",
    "    clf.fit(X_train, y_train)\n",
    "    y_pred = clf.predict(X_test)\n",
    "    print(f\"{model}:\")\n",
    "    print(classification_report(y_pred, y_test))\n"
   ]
  }
 ],
 "metadata": {
  "kernelspec": {
   "display_name": "Python 3 (ipykernel)",
   "language": "python",
   "name": "python3"
  },
  "language_info": {
   "codemirror_mode": {
    "name": "ipython",
    "version": 3
   },
   "file_extension": ".py",
   "mimetype": "text/x-python",
   "name": "python",
   "nbconvert_exporter": "python",
   "pygments_lexer": "ipython3",
   "version": "3.8.10"
  }
 },
 "nbformat": 4,
 "nbformat_minor": 5
}
