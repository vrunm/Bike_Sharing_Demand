{
 "cells": [
  {
   "cell_type": "code",
   "execution_count": null,
   "metadata": {
    "_uuid": "3714683c93de6fe9db52ff4973510692a1d10b33"
   },
   "outputs": [],
   "source": [
    "import warnings\n",
    "warnings.filterwarnings('ignore')\n",
    "import numpy as np\n",
    "import pandas as pd\n",
    "import matplotlib.pyplot as plt\n",
    "from matplotlib import style\n",
    "import seaborn as sns\n",
    "import missingno as msno\n",
    "%matplotlib inline  \n",
    "style.use('fivethirtyeight')\n",
    "sns.set(style='whitegrid',color_codes=True)\n",
    "\n",
    "\n",
    "from sklearn.linear_model import LogisticRegression\n",
    "from sklearn.svm import LinearSVC,SVC\n",
    "from sklearn.neighbors import KNeighborsClassifier\n",
    "from sklearn.ensemble import RandomForestClassifier,GradientBoostingClassifier\n",
    "from sklearn.tree import DecisionTreeClassifier\n",
    "from sklearn.naive_bayes import GaussianNB\n",
    "\n",
    "\n",
    "from sklearn.linear_model import LinearRegression,Ridge,Lasso,RidgeCV\n",
    "from sklearn.ensemble import RandomForestRegressor,BaggingRegressor,GradientBoostingRegressor,AdaBoostRegressor\n",
    "from sklearn.svm import SVR\n",
    "from sklearn.neighbors import KNeighborsRegressor\n",
    "\n",
    "from sklearn.model_selection import train_test_split,cross_validate\n",
    "from sklearn.model_selection import KFold\n",
    "from sklearn.model_selection import GridSearchCV\n",
    "\n",
    "from sklearn.metrics import mean_squared_log_error,mean_squared_error, r2_score,mean_absolute_error # for regression\n",
    "from sklearn.metrics import accuracy_score,precision_score,recall_score,f1_score  # for classification\n",
    " "
   ]
  },
  {
   "cell_type": "code",
   "execution_count": null,
   "metadata": {},
   "outputs": [],
   "source": []
  },
  {
   "cell_type": "code",
   "execution_count": null,
   "metadata": {},
   "outputs": [],
   "source": []
  },
  {
   "cell_type": "code",
   "execution_count": null,
   "metadata": {
    "_uuid": "29ee14f4c117e6ac694e37305a46a8d56a118822"
   },
   "outputs": [],
   "source": [
    "train = pd.read_csv(\"train.csv\")\n",
    "test = pd.read_csv(\"test.csv\")\n",
    "df = train.copy()\n",
    "test_df = test.copy()\n",
    "df.head()\n"
   ]
  },
  {
   "cell_type": "code",
   "execution_count": null,
   "metadata": {
    "_uuid": "4e374b33b0947c5e71b524344ca98972028b4e80"
   },
   "outputs": [],
   "source": [
    "df.columns.unique()\n"
   ]
  },
  {
   "cell_type": "markdown",
   "metadata": {
    "_uuid": "3209eb63e926c5a9a172ac856e8cbe234be5bc08"
   },
   "source": [
    "###### A SHORT DESCRIPTION OF THE FEATURES.\n",
    "\n",
    "datetime - hourly date + timestamp  \n",
    "\n",
    "season -  1 = spring, 2 = summer, 3 = fall, 4 = winter \n",
    "\n",
    "holiday - whether the day is considered a holiday\n",
    "\n",
    "workingday - whether the day is neither a weekend nor holiday\n",
    "\n",
    "weather -\n",
    "\n",
    "1: Clear, Few clouds, Partly cloudy, Partly cloudy \n",
    "\n",
    "2: Mist + Cloudy, Mist + Broken clouds, Mist + Few clouds, Mist \n",
    "\n",
    "3: Light Snow, Light Rain + Thunderstorm + Scattered clouds, Light Rain + Scattered clouds \n",
    "\n",
    "4: Heavy Rain + Ice Pallets + Thunderstorm + Mist, Snow + Fog \n",
    "\n",
    "temp - temperature in Celsius\n",
    "\n",
    "\n",
    "humidity - relative humidity\n",
    "\n",
    "windspeed - wind speed\n",
    "\n",
    "casual - number of non-registered user rentals initiated\n",
    "\n",
    "registered - number of registered user rentals initiated\n",
    "\n",
    "count - number of total rentals"
   ]
  },
  {
   "cell_type": "markdown",
   "metadata": {
    "_uuid": "22a691d4be92d23a7830a98adb9bae2de71e6f78"
   },
   "source": [
    "######  HERE ALL THE VARIABLES OR FEATURES ARE NUMERIC AND THE TARGET VARIABLE THAT WE HAVE TO PREDICT IS THE count VARIABLE. HENCE THIS IS A TYPICAL EXAMPLE OF A REGRESSION PROBLEM AS THE count VARIABLE IS CONTINUOUS VARIED."
   ]
  },
  {
   "cell_type": "code",
   "execution_count": null,
   "metadata": {
    "_uuid": "aae2ea236fd1d3a70f4444d507eed5026d1841e3"
   },
   "outputs": [],
   "source": [
    "df.info()\n"
   ]
  },
  {
   "cell_type": "code",
   "execution_count": null,
   "metadata": {
    "_uuid": "ede9438401bf029bfddbddee29116b0c399b6c3e"
   },
   "outputs": [],
   "source": [
    "df.isnull().sum()\n"
   ]
  },
  {
   "cell_type": "code",
   "execution_count": null,
   "metadata": {
    "_uuid": "8819819cf5c172ef6f02b72ca1f430da12eca583"
   },
   "outputs": [],
   "source": [
    "msno.matrix(df)\n"
   ]
  },
  {
   "cell_type": "markdown",
   "metadata": {
    "_uuid": "4e7b5435d670440f6928c0c35343a8c440416893"
   },
   "source": []
  },
  {
   "cell_type": "code",
   "execution_count": null,
   "metadata": {
    "_uuid": "80c0b0eeb79267103d7e0f47e11cd0dd787a8393"
   },
   "outputs": [],
   "source": [
    "df.season.value_counts()\n"
   ]
  },
  {
   "cell_type": "code",
   "execution_count": null,
   "metadata": {
    "_uuid": "07a59826be47b0c10e8aa41955907262d0e0178c"
   },
   "outputs": [],
   "source": [
    "sns.countplot(x=\"season\", data=df)\n"
   ]
  },
  {
   "cell_type": "code",
   "execution_count": null,
   "metadata": {
    "_uuid": "a84974a01956d6e8ae5492f88d763211e1b4aaee"
   },
   "outputs": [],
   "source": [
    "# holiday\n",
    "df.holiday.value_counts()\n",
    "sns.factorplot(\n",
    "    x=\"holiday\", data=df, kind=\"count\", size=5, aspect=1)"
   ]
  },
  {
   "cell_type": "code",
   "execution_count": null,
   "metadata": {
    "_uuid": "51a7a3ebfbaefafa24b3515afb93fd1a3a008632"
   },
   "outputs": [],
   "source": [
    "# Majority of the bike rides taken is on a working day\n",
    "df.workingday.value_counts()\n",
    "sns.factorplot(x=\"workingday\", data=df, kind=\"count\", size=5, aspect=1)"
   ]
  },
  {
   "cell_type": "code",
   "execution_count": null,
   "metadata": {
    "_uuid": "4469180f5a72e11927ca8969c83672259bf824fc"
   },
   "outputs": [],
   "source": []
  },
  {
   "cell_type": "code",
   "execution_count": null,
   "metadata": {
    "_uuid": "693e609795fbec7681820985bccaec9fb629fecf"
   },
   "outputs": [],
   "source": [
    "# It can be seen that during summer most rides are taken\n",
    "sns.countplot(x=\"weather\", data=df)\n",
    "# 1-> spring\n",
    "# 2-> summer\n",
    "# 3-> fall\n",
    "# 4-> winter\n"
   ]
  },
  {
   "cell_type": "markdown",
   "metadata": {
    "_uuid": "102aced93acb7479348a0c7754c06c892e5f8041"
   },
   "source": [
    "######  NOW WE CAN  ALSO SEE DISTRIBUTION OF CONTINOUS VARIABLES."
   ]
  },
  {
   "cell_type": "code",
   "execution_count": null,
   "metadata": {
    "_uuid": "7438c866b1e8dbb04055d59759b50cb5077142da"
   },
   "outputs": [],
   "source": [
    "df.describe()\n"
   ]
  },
  {
   "cell_type": "code",
   "execution_count": null,
   "metadata": {
    "_uuid": "726401270678c29ac7a4c4523feb297b8fc4fec6"
   },
   "outputs": [],
   "source": [
    "sns.boxplot(\n",
    "    data=df[[\"temp\", \"atemp\", \"humidity\", \"windspeed\", \"casual\", \"registered\", \"count\"]]\n",
    ")\n",
    "fig = plt.gcf()\n",
    "fig.set_size_inches(10, 10)\n"
   ]
  },
  {
   "cell_type": "code",
   "execution_count": null,
   "metadata": {
    "_uuid": "6be3e1df01d7fe136efc717480e08f2d05c4e3dd"
   },
   "outputs": [],
   "source": [
    "# can also be visulaized using histograms for all the continuous variables.\n",
    "df.temp.unique()\n",
    "fig, axes = plt.subplots(2, 2)\n",
    "axes[0, 0].hist(x=\"temp\", data=df, edgecolor=\"black\", linewidth=2, color=\"#ff4125\")\n",
    "axes[0, 0].set_title(\"Variation of temp\")\n",
    "axes[0, 1].hist(x=\"atemp\", data=df, edgecolor=\"black\", linewidth=2, color=\"#ff4125\")\n",
    "axes[0, 1].set_title(\"Variation of atemp\")\n",
    "axes[1, 0].hist(x=\"windspeed\", data=df, edgecolor=\"black\", linewidth=2, color=\"#ff4125\")\n",
    "axes[1, 0].set_title(\"Variation of windspeed\")\n",
    "axes[1, 1].hist(x=\"humidity\", data=df, edgecolor=\"black\", linewidth=2, color=\"#ff4125\")\n",
    "axes[1, 1].set_title(\"Variation of humidity\")\n",
    "fig.set_size_inches(10, 10)\n"
   ]
  },
  {
   "cell_type": "markdown",
   "metadata": {
    "_uuid": "3ce33b106ecd580890d903ce4951ad1c39fc3e18"
   },
   "source": [
    "######  NOW AFTER SEEING THE DISTRIBUTION OF VARIOUS DISCRETE AS WELL AS CONTINUOUS VARIABLES WE CAN SEE THE INTERREALTION B/W THEM USING A HEAT MAP."
   ]
  },
  {
   "cell_type": "code",
   "execution_count": null,
   "metadata": {
    "_uuid": "52d92f76809b32f84e936a57ba582c9188aba311"
   },
   "outputs": [],
   "source": [
    "# corelation matrix.\n",
    "cor_mat = df[:].corr()\n",
    "mask = np.array(cor_mat)\n",
    "mask[np.tril_indices_from(mask)] = False\n",
    "fig = plt.gcf()\n",
    "fig.set_size_inches(30, 12)\n",
    "sns.heatmap(data=cor_mat, mask=mask, square=True, annot=True, cbar=True)\n"
   ]
  },
  {
   "cell_type": "code",
   "execution_count": null,
   "metadata": {
    "_uuid": "3d5d88ba071ae70848b9d5649ff1b29d5afaffc5"
   },
   "outputs": [],
   "source": [
    "# Separating each of the seasons and concatenating it to the dataframe.\n",
    "season = pd.get_dummies(df[\"season\"], prefix=\"season\")\n",
    "df = pd.concat([df, season], axis=1)\n",
    "df.head()\n",
    "season = pd.get_dummies(test_df[\"season\"], prefix=\"season\")\n",
    "test_df = pd.concat([test_df, season], axis=1)\n",
    "test_df.head()\n"
   ]
  },
  {
   "cell_type": "code",
   "execution_count": null,
   "metadata": {
    "_uuid": "41cd4105b035ed61f789686bc1bba906f092496b"
   },
   "outputs": [],
   "source": [
    "# One hot encoding each weather attribute and concatenating it to the dataframe\n",
    "weather = pd.get_dummies(df[\"weather\"], prefix=\"weather\")\n",
    "df = pd.concat([df, weather], axis=1)\n",
    "df.head()\n",
    "weather = pd.get_dummies(test_df[\"weather\"], prefix=\"weather\")\n",
    "test_df = pd.concat([test_df, weather], axis=1)\n",
    "test_df.head()\n"
   ]
  },
  {
   "cell_type": "code",
   "execution_count": null,
   "metadata": {
    "_uuid": "b98082ac0dd6d032e8b0094b024ceb2d00097b8a"
   },
   "outputs": [],
   "source": [
    "# Dropping weather and season.\n",
    "df.drop([\"season\", \"weather\"], inplace=True, axis=1)\n",
    "df.head()\n",
    "test_df.drop([\"season\", \"weather\"], inplace=True, axis=1)\n",
    "test_df.head()\n"
   ]
  },
  {
   "cell_type": "code",
   "execution_count": null,
   "metadata": {
    "_uuid": "7bfc03e0568857a40a2561b0566913103c0752c4"
   },
   "outputs": [],
   "source": []
  },
  {
   "cell_type": "code",
   "execution_count": null,
   "metadata": {
    "_uuid": "8e997d136e4b03fc9dd5eee8667da39ac6cfd9e6"
   },
   "outputs": [],
   "source": [
    "# Splitting the day,month,hourand year from the datatime column\n",
    "\n",
    "df[\"hour\"] = [t.hour for t in pd.DatetimeIndex(df.datetime)]\n",
    "df[\"day\"] = [t.dayofweek for t in pd.DatetimeIndex(df.datetime)]\n",
    "df[\"month\"] = [t.month for t in pd.DatetimeIndex(df.datetime)]\n",
    "df[\"year\"] = [t.year for t in pd.DatetimeIndex(df.datetime)]\n",
    "df[\"year\"] = df[\"year\"].map({2011: 0, 2012: 1})\n",
    "df.head()\n"
   ]
  },
  {
   "cell_type": "code",
   "execution_count": null,
   "metadata": {
    "_uuid": "950fcc8ea72778c7f1963ee6106f4a68649974d4"
   },
   "outputs": [],
   "source": [
    "test_df[\"hour\"] = [t.hour for t in pd.DatetimeIndex(test_df.datetime)]\n",
    "test_df[\"day\"] = [t.dayofweek for t in pd.DatetimeIndex(test_df.datetime)]\n",
    "test_df[\"month\"] = [t.month for t in pd.DatetimeIndex(test_df.datetime)]\n",
    "test_df[\"year\"] = [t.year for t in pd.DatetimeIndex(test_df.datetime)]\n",
    "test_df[\"year\"] = test_df[\"year\"].map({2011: 0, 2012: 1})\n",
    "test_df.head()\n"
   ]
  },
  {
   "cell_type": "code",
   "execution_count": null,
   "metadata": {
    "_uuid": "d04fa7dc6c3d03f70ba6b53abcb74b492f9c0739"
   },
   "outputs": [],
   "source": [
    "df.drop(\"datetime\", axis=1, inplace=True)\n",
    "df.head()\n"
   ]
  },
  {
   "cell_type": "markdown",
   "metadata": {
    "_uuid": "33a931615968a6aee0fdf1381d968de1d9844720"
   },
   "source": [
    "## NOW LETS HAVE A LOOK AT OUR NEW FEATURES."
   ]
  },
  {
   "cell_type": "code",
   "execution_count": null,
   "metadata": {
    "_uuid": "cfaec3adda96ef23da53953b518d6af02d62865f"
   },
   "outputs": [],
   "source": [
    "cor_mat = df[:].corr()\n",
    "mask = np.array(cor_mat)\n",
    "mask[np.tril_indices_from(mask)] = False\n",
    "fig = plt.gcf()\n",
    "fig.set_size_inches(30, 12)\n",
    "sns.heatmap(data=cor_mat, mask=mask, square=True, annot=True, cbar=True)\n"
   ]
  },
  {
   "cell_type": "code",
   "execution_count": null,
   "metadata": {
    "_uuid": "525418035b60f42107117baceed4c217f9ac90ef"
   },
   "outputs": [],
   "source": [
    "df.drop([\"casual\", \"registered\"], axis=1, inplace=True)\n"
   ]
  },
  {
   "cell_type": "code",
   "execution_count": null,
   "metadata": {
    "_uuid": "bbd11afa67d731e3749229861f79f0de5ea7729e"
   },
   "outputs": [],
   "source": [
    "df.head()\n"
   ]
  },
  {
   "cell_type": "code",
   "execution_count": null,
   "metadata": {
    "_uuid": "4674df408a7b2a2e78e48cc90d03d751063c92c1"
   },
   "outputs": [],
   "source": [
    "sns.catplot(x=\"hour\", y=\"count\", data=df, strip=\"bar\", height=5, aspect=1.5)\n",
    "plt.show()\n"
   ]
  },
  {
   "cell_type": "markdown",
   "metadata": {
    "_uuid": "975c0eddd8c0330115685c15e3f96c2ff18d9425"
   },
   "source": [
    "The highest demand is in hours from say 7-10 and the from 15-19. this is because in most of the metroploitan cities this is the peak office time and so more people would be renting bikes. \n"
   ]
  },
  {
   "cell_type": "code",
   "execution_count": null,
   "metadata": {
    "_uuid": "9348bfc54218c062cbd21adce5f0c6550f9c6921"
   },
   "outputs": [],
   "source": [
    "sns.factorplot(x=\"month\", y=\"count\", data=df, kind=\"bar\", size=5, aspect=1.5)\n",
    "# The season effects whether people take bike or not.\n"
   ]
  },
  {
   "cell_type": "code",
   "execution_count": null,
   "metadata": {
    "_uuid": "58e323f0cb019ad7e7134afdb60c31faa47a0431"
   },
   "outputs": [],
   "source": [
    "sns.factorplot(x=\"year\", y=\"count\", data=df, kind=\"bar\", size=5, aspect=1.5)\n",
    "# 0 for 2011 and 1 for 2012. Hence demand has increased over the years.\n"
   ]
  },
  {
   "cell_type": "code",
   "execution_count": null,
   "metadata": {
    "_uuid": "7b4b7821511f49d43f552d5c11760edbd264bfe7"
   },
   "outputs": [],
   "source": [
    "sns.countplot(x=\"day\", data=df)\n"
   ]
  },
  {
   "cell_type": "code",
   "execution_count": null,
   "metadata": {
    "_uuid": "3cf03370927cf8de90934f29a1be02008e5fa8d4"
   },
   "outputs": [],
   "source": [
    "#Convert the temperature to bins to find the temperature range in which the bike sharing demand is the most.\n"
   ]
  },
  {
   "cell_type": "markdown",
   "metadata": {
    "_uuid": "ce8e333b760088b04db3ebf63d3ca0ccf80a469a"
   },
   "source": [
    "###### note that this way this is hard to visualze. a better way is to convert the 'temp' variable into intervals or so called bins and then treat it like a discrete variable."
   ]
  },
  {
   "cell_type": "code",
   "execution_count": null,
   "metadata": {
    "_uuid": "611d77d4880383d051fd70efa7f1080b287b912e"
   },
   "outputs": [],
   "source": [
    "new_df = df.copy()\n",
    "new_df.temp.describe()\n",
    "new_df[\"temp_bin\"] = np.floor(new_df[\"temp\"]) // 5\n",
    "new_df[\"temp_bin\"].unique()\n",
    "# now we can visualize as follows\n",
    "sns.factorplot(x=\"temp_bin\", y=\"count\", data=new_df, kind=\"bar\")\n",
    "plt.show()\n"
   ]
  },
  {
   "cell_type": "markdown",
   "metadata": {
    "_uuid": "4b5a4df796e9a4c8baa462928a5dda605de80111"
   },
   "source": [
    "#The bins 6,7 have the highest ride share demand which corresponds to temperature range between 30-35"
   ]
  },
  {
   "cell_type": "code",
   "execution_count": null,
   "metadata": {
    "_uuid": "1c0c1f7cac8789094276dc9eb07a86d62447398c"
   },
   "outputs": [],
   "source": [
    "df.head()\n"
   ]
  },
  {
   "cell_type": "code",
   "execution_count": null,
   "metadata": {
    "_uuid": "24cd5ce3a44e8cd0095f2dcf98c25bf42d7e7da8"
   },
   "outputs": [],
   "source": [
    "df.columns.to_series().groupby(df.dtypes).groups\n"
   ]
  },
  {
   "cell_type": "code",
   "execution_count": 41,
   "metadata": {},
   "outputs": [],
   "source": [
    "from sklearn.model_selection import train_test_split\n",
    "from sklearn.svm import SVR\n",
    "from sklearn.ensemble import BaggingRegressor\n",
    "from sklearn.ensemble import AdaBoostRegressor\n",
    "from sklearn.ensemble import RandomForestRegressor\n",
    "from sklearn.neighbors import KNeighborsRegressor\n",
    "from sklearn.metrics import mean_squared_log_error\n",
    "from sklearn.metrics import classification_report\n",
    "from sklearn.metrics import mean_squared_error\n",
    "from sklearn.metrics import accuracy_score\n",
    "from sklearn.ensemble import RandomForestRegressor\n",
    "from sklearn.ensemble import AdaBoostRegressor\n",
    "from sklearn.ensemble import BaggingRegressor\n",
    "from sklearn.svm import SVR\n",
    "from sklearn.tree import DecisionTreeClassifier\n"
   ]
  },
  {
   "cell_type": "code",
   "execution_count": null,
   "metadata": {},
   "outputs": [],
   "source": [
    "X = df.drop(\"count\", axis=1)\n",
    "y = df[\"count\"]\n",
    "x_train, x_test, y_train, y_test = train_test_split(X, y, test_size=0.25, random_state=42)"
   ]
  },
  {
   "cell_type": "code",
   "execution_count": null,
   "metadata": {},
   "outputs": [],
   "source": [
    "# Fitting a Decision Tree\n",
    "dt = DecisionTreeClassifier()\n",
    "dt.fit(x_train, y_train)\n",
    "res = dt.fit(x_train, y_train)\n",
    "y_pred = res.predict(x_train)\n",
    "y_pred = res.predict(x_train)\n",
    "accuracy_score(y_train, y_pred)\n"
   ]
  },
  {
   "cell_type": "code",
   "execution_count": 42,
   "metadata": {
    "_uuid": "1dae4e766e42560879e3b5d471d74d42880312a7"
   },
   "outputs": [],
   "source": [
    "model_list = [\n",
    "    RandomForestRegressor(),\n",
    "    AdaBoostRegressor(),\n",
    "    BaggingRegressor(),\n",
    "    SVR(),\n",
    "]\n"
   ]
  },
  {
   "cell_type": "code",
   "execution_count": null,
   "metadata": {},
   "outputs": [],
   "source": [
    "from sklearn.metrics import accuracy_score\n",
    "accuracy_score(y_train, y_pred)\n"
   ]
  },
  {
   "cell_type": "code",
   "execution_count": null,
   "metadata": {},
   "outputs": [],
   "source": [
    "from sklearn.compose import ColumnTransformer\n",
    "from sklearn.pipeline import Pipeline\n",
    "from sklearn.preprocessing import OneHotEncoder, OrdinalEncoder"
   ]
  },
  {
   "cell_type": "code",
   "execution_count": null,
   "metadata": {
    "_uuid": "6dabf1935c3d529e977407b8f424097057d71ab2"
   },
   "outputs": [],
   "source": [
    "nomimal_variables = [\"season\", \"weather\"]\n",
    "nominal_encoder = OneHotEncoder(handle_unknown=\"ignore\")\n",
    "\n",
    "preprocessor = ColumnTransformer(\n",
    "    transformers=[\n",
    "        (\"nom_encode\", nominal_encoder, nomimal_variables),\n",
    "    ]\n",
    ")\n",
    "mse_log = {}\n",
    "for model in model_list:\n",
    "    clf = Pipeline(\n",
    "        steps=[\n",
    "            (\"prep\", preprocessor),\n",
    "            (\"model\", model),\n",
    "        ]\n",
    "    )\n",
    "    clf.fit(x_train, y_train)\n",
    "    y_pred = clf.predict(x_test)\n",
    "    mse = mean_squared_error(y_pred, y_test)\n",
    "    mse_log[str(model)] = mse"
   ]
  },
  {
   "cell_type": "code",
   "execution_count": null,
   "metadata": {
    "_uuid": "fb4017692bd3ae58846d968a3356cf691e1b7c10"
   },
   "outputs": [],
   "source": [
    "model1.fit()\n",
    "res = dt.fit(x_train, y_train)\n",
    "y_pred = res.predict(x_train)\n",
    "y_pred = res.predict(x_train)"
   ]
  },
  {
   "cell_type": "code",
   "execution_count": null,
   "metadata": {},
   "outputs": [],
   "source": [
    "# Comparing the mse values for the different models\n",
    "# It can be seen that the Random Forest Model performs the best. It does not suffer from overfitting\n"
   ]
  },
  {
   "cell_type": "code",
   "execution_count": null,
   "metadata": {
    "_uuid": "b1e29191394aad3b67a3de0516582ed459735245"
   },
   "outputs": [],
   "source": []
  },
  {
   "cell_type": "markdown",
   "metadata": {
    "_uuid": "dc69054aef137b48a8e7f396822866049e946cf1"
   },
   "source": [
    "                                                     "
   ]
  },
  {
   "cell_type": "code",
   "execution_count": null,
   "metadata": {},
   "outputs": [],
   "source": []
  },
  {
   "cell_type": "code",
   "execution_count": null,
   "metadata": {
    "_uuid": "59e510a4b96c1c314e23d8a1a193d97fb09ef99e"
   },
   "outputs": [],
   "source": []
  },
  {
   "cell_type": "code",
   "execution_count": null,
   "metadata": {
    "_uuid": "519e7fc88dbb4872136fd3eb8eca61e2a75941a2"
   },
   "outputs": [],
   "source": []
  },
  {
   "cell_type": "code",
   "execution_count": null,
   "metadata": {
    "_uuid": "a963bd9247ce535dbc357c0a43c142095fbb1994"
   },
   "outputs": [],
   "source": []
  },
  {
   "cell_type": "code",
   "execution_count": null,
   "metadata": {
    "_uuid": "e64bf3c33e01f5d4d3fa037e5fd95957506af3cf"
   },
   "outputs": [],
   "source": []
  }
 ],
 "metadata": {
  "kernelspec": {
   "display_name": "Python 3.8.10 ('env1')",
   "language": "python",
   "name": "python3"
  },
  "language_info": {
   "codemirror_mode": {
    "name": "ipython",
    "version": 3
   },
   "file_extension": ".py",
   "mimetype": "text/x-python",
   "name": "python",
   "nbconvert_exporter": "python",
   "pygments_lexer": "ipython3",
   "version": "3.8.10"
  },
  "vscode": {
   "interpreter": {
    "hash": "1c14bb3f41aa761a4f1cf076ae5d3bfc4d9e95e51d9f186aa3481e5214f75048"
   }
  }
 },
 "nbformat": 4,
 "nbformat_minor": 1
}
