{
 "cells": [
  {
   "cell_type": "markdown",
   "id": "503a838b",
   "metadata": {},
   "source": [
    "# <center> Credit Score Classification"
   ]
  },
  {
   "cell_type": "markdown",
   "id": "5103f8e6",
   "metadata": {},
   "source": []
  },
  {
   "cell_type": "markdown",
   "id": "bdbd2251",
   "metadata": {},
   "source": [
    "## Packages importing "
   ]
  },
  {
   "cell_type": "code",
   "execution_count": 2,
   "id": "a213047b",
   "metadata": {
    "execution": {
     "iopub.execute_input": "2022-10-15T06:18:59.197834Z",
     "iopub.status.busy": "2022-10-15T06:18:59.197583Z",
     "iopub.status.idle": "2022-10-15T06:18:59.596078Z",
     "shell.execute_reply": "2022-10-15T06:18:59.595048Z",
     "shell.execute_reply.started": "2022-10-15T06:18:59.197805Z"
    }
   },
   "outputs": [
    {
     "name": "stderr",
     "output_type": "stream",
     "text": [
      "/home/varun/environments/env1/lib/python3.8/site-packages/sklearn/experimental/enable_hist_gradient_boosting.py:16: UserWarning: Since version 1.0, it is not needed to import enable_hist_gradient_boosting anymore. HistGradientBoostingClassifier and HistGradientBoostingRegressor are now stable and can be normally imported from sklearn.ensemble.\n",
      "  warnings.warn(\n"
     ]
    }
   ],
   "source": [
    "# Packages for EDA \n",
    "import matplotlib.pyplot as plt\n",
    "import seaborn as sns \n",
    "import pandas as pd \n",
    "import numpy as np \n",
    "\n",
    "# Data Preprocessing\n",
    "from sklearn.model_selection import train_test_split\n",
    "from sklearn.preprocessing import PowerTransformer\n",
    "from datasist.structdata import detect_outliers\n",
    "from sklearn.metrics import mean_squared_error\n",
    "from imblearn.over_sampling import SMOTE\n",
    "from sklearn.impute import SimpleImputer\n",
    "import category_encoders as ce\n",
    "import re \n",
    "\n",
    "# Modeling and evaluation \n",
    "from sklearn.experimental import enable_hist_gradient_boosting\n",
    "from sklearn.ensemble import (\n",
    "    BaggingClassifier,\n",
    "    ExtraTreesClassifier,\n",
    "    RandomForestClassifier,\n",
    "    StackingClassifier,\n",
    "    HistGradientBoostingClassifier\n",
    ")\n",
    "from xgboost import XGBClassifier\n",
    "from sklearn.metrics import classification_report \n",
    "import joblib\n",
    "\n",
    "# Packages options \n",
    "sns.set(rc={'figure.figsize': [14, 7]}, font_scale=1.2) # Standard figure size for all \n",
    "np.seterr(divide='ignore', invalid='ignore', over='ignore') ;\n",
    "\n",
    "import warnings \n",
    "warnings.filterwarnings(\"ignore\")"
   ]
  },
  {
   "cell_type": "markdown",
   "id": "f214e3fa",
   "metadata": {},
   "source": [
    "## Reading Data "
   ]
  },
  {
   "cell_type": "code",
   "execution_count": 3,
   "id": "a5d9a018",
   "metadata": {
    "execution": {
     "iopub.execute_input": "2022-10-15T05:44:11.917672Z",
     "iopub.status.busy": "2022-10-15T05:44:11.917444Z",
     "iopub.status.idle": "2022-10-15T05:44:13.128090Z",
     "shell.execute_reply": "2022-10-15T05:44:13.127324Z",
     "shell.execute_reply.started": "2022-10-15T05:44:11.917647Z"
    }
   },
   "outputs": [],
   "source": [
    "df = pd.read_csv(\"train.csv\")"
   ]
  },
  {
   "cell_type": "code",
   "execution_count": 3,
   "id": "073d2711",
   "metadata": {
    "execution": {
     "iopub.execute_input": "2022-10-15T05:44:13.129445Z",
     "iopub.status.busy": "2022-10-15T05:44:13.129155Z",
     "iopub.status.idle": "2022-10-15T05:44:13.171886Z",
     "shell.execute_reply": "2022-10-15T05:44:13.171022Z",
     "shell.execute_reply.started": "2022-10-15T05:44:13.129386Z"
    }
   },
   "outputs": [
    {
     "data": {
      "text/html": [
       "<div>\n",
       "<style scoped>\n",
       "    .dataframe tbody tr th:only-of-type {\n",
       "        vertical-align: middle;\n",
       "    }\n",
       "\n",
       "    .dataframe tbody tr th {\n",
       "        vertical-align: top;\n",
       "    }\n",
       "\n",
       "    .dataframe thead th {\n",
       "        text-align: right;\n",
       "    }\n",
       "</style>\n",
       "<table border=\"1\" class=\"dataframe\">\n",
       "  <thead>\n",
       "    <tr style=\"text-align: right;\">\n",
       "      <th></th>\n",
       "      <th>ID</th>\n",
       "      <th>Customer_ID</th>\n",
       "      <th>Month</th>\n",
       "      <th>Name</th>\n",
       "      <th>Age</th>\n",
       "      <th>SSN</th>\n",
       "      <th>Occupation</th>\n",
       "      <th>Annual_Income</th>\n",
       "      <th>Monthly_Inhand_Salary</th>\n",
       "      <th>Num_Bank_Accounts</th>\n",
       "      <th>...</th>\n",
       "      <th>Credit_Mix</th>\n",
       "      <th>Outstanding_Debt</th>\n",
       "      <th>Credit_Utilization_Ratio</th>\n",
       "      <th>Credit_History_Age</th>\n",
       "      <th>Payment_of_Min_Amount</th>\n",
       "      <th>Total_EMI_per_month</th>\n",
       "      <th>Amount_invested_monthly</th>\n",
       "      <th>Payment_Behaviour</th>\n",
       "      <th>Monthly_Balance</th>\n",
       "      <th>Credit_Score</th>\n",
       "    </tr>\n",
       "  </thead>\n",
       "  <tbody>\n",
       "    <tr>\n",
       "      <th>80837</th>\n",
       "      <td>0x1efa7</td>\n",
       "      <td>CUS_0xc065</td>\n",
       "      <td>June</td>\n",
       "      <td>NaN</td>\n",
       "      <td>48</td>\n",
       "      <td>138-39-8101</td>\n",
       "      <td>Accountant</td>\n",
       "      <td>35341.99_</td>\n",
       "      <td>2935.165833</td>\n",
       "      <td>5</td>\n",
       "      <td>...</td>\n",
       "      <td>Good</td>\n",
       "      <td>1411.87</td>\n",
       "      <td>27.427709</td>\n",
       "      <td>30 Years and 2 Months</td>\n",
       "      <td>No</td>\n",
       "      <td>18.160494</td>\n",
       "      <td>118.47566961293992</td>\n",
       "      <td>High_spent_Small_value_payments</td>\n",
       "      <td>416.8804198293405</td>\n",
       "      <td>Good</td>\n",
       "    </tr>\n",
       "    <tr>\n",
       "      <th>32042</th>\n",
       "      <td>0xd1c0</td>\n",
       "      <td>CUS_0x7976</td>\n",
       "      <td>March</td>\n",
       "      <td>Michelle Nicholsc</td>\n",
       "      <td>32</td>\n",
       "      <td>616-00-4975</td>\n",
       "      <td>Lawyer</td>\n",
       "      <td>67629.14</td>\n",
       "      <td>5479.761667</td>\n",
       "      <td>0</td>\n",
       "      <td>...</td>\n",
       "      <td>Good</td>\n",
       "      <td>177.03</td>\n",
       "      <td>37.197259</td>\n",
       "      <td>32 Years and 0 Months</td>\n",
       "      <td>No</td>\n",
       "      <td>45.550749</td>\n",
       "      <td>179.5041821392071</td>\n",
       "      <td>High_spent_Medium_value_payments</td>\n",
       "      <td>572.9212354154361</td>\n",
       "      <td>Standard</td>\n",
       "    </tr>\n",
       "    <tr>\n",
       "      <th>72558</th>\n",
       "      <td>0x1bf24</td>\n",
       "      <td>CUS_0x86d9</td>\n",
       "      <td>July</td>\n",
       "      <td>Emily Stephensonm</td>\n",
       "      <td>54</td>\n",
       "      <td>828-32-1568</td>\n",
       "      <td>Accountant</td>\n",
       "      <td>20868.005</td>\n",
       "      <td>1574.000417</td>\n",
       "      <td>2</td>\n",
       "      <td>...</td>\n",
       "      <td>Good</td>\n",
       "      <td>905.47</td>\n",
       "      <td>32.241801</td>\n",
       "      <td>24 Years and 1 Months</td>\n",
       "      <td>No</td>\n",
       "      <td>48.647009</td>\n",
       "      <td>189.619306248734</td>\n",
       "      <td>Low_spent_Small_value_payments</td>\n",
       "      <td>209.13372625301983</td>\n",
       "      <td>Good</td>\n",
       "    </tr>\n",
       "    <tr>\n",
       "      <th>71268</th>\n",
       "      <td>0x1b796</td>\n",
       "      <td>CUS_0x6f3b</td>\n",
       "      <td>May</td>\n",
       "      <td>Ortizo</td>\n",
       "      <td>52</td>\n",
       "      <td>594-88-0270</td>\n",
       "      <td>Writer</td>\n",
       "      <td>30936.76</td>\n",
       "      <td>2311.063333</td>\n",
       "      <td>0</td>\n",
       "      <td>...</td>\n",
       "      <td>Good</td>\n",
       "      <td>761.34</td>\n",
       "      <td>31.629013</td>\n",
       "      <td>18 Years and 5 Months</td>\n",
       "      <td>No</td>\n",
       "      <td>33.796693</td>\n",
       "      <td>182.249206704862</td>\n",
       "      <td>Low_spent_Small_value_payments</td>\n",
       "      <td>305.06043324654695</td>\n",
       "      <td>Poor</td>\n",
       "    </tr>\n",
       "    <tr>\n",
       "      <th>44684</th>\n",
       "      <td>0x11bd2</td>\n",
       "      <td>CUS_0x5262</td>\n",
       "      <td>May</td>\n",
       "      <td>Bhaswatit</td>\n",
       "      <td>32</td>\n",
       "      <td>541-53-3205</td>\n",
       "      <td>Developer</td>\n",
       "      <td>78339.66</td>\n",
       "      <td>6562.305000</td>\n",
       "      <td>3</td>\n",
       "      <td>...</td>\n",
       "      <td>Standard</td>\n",
       "      <td>285.36</td>\n",
       "      <td>37.769355</td>\n",
       "      <td>19 Years and 2 Months</td>\n",
       "      <td>No</td>\n",
       "      <td>43167.000000</td>\n",
       "      <td>663.2181927504098</td>\n",
       "      <td>Low_spent_Small_value_payments</td>\n",
       "      <td>195.77809893306755</td>\n",
       "      <td>Standard</td>\n",
       "    </tr>\n",
       "    <tr>\n",
       "      <th>79184</th>\n",
       "      <td>0x1e5fa</td>\n",
       "      <td>CUS_0x4bda</td>\n",
       "      <td>January</td>\n",
       "      <td>Fayen Wongk</td>\n",
       "      <td>53</td>\n",
       "      <td>826-37-6944</td>\n",
       "      <td>Doctor</td>\n",
       "      <td>69886.64</td>\n",
       "      <td>5673.886667</td>\n",
       "      <td>4</td>\n",
       "      <td>...</td>\n",
       "      <td>Good</td>\n",
       "      <td>683.01</td>\n",
       "      <td>29.978979</td>\n",
       "      <td>17 Years and 3 Months</td>\n",
       "      <td>No</td>\n",
       "      <td>57.134763</td>\n",
       "      <td>417.89335585697233</td>\n",
       "      <td>Low_spent_Medium_value_payments</td>\n",
       "      <td>372.3605475226435</td>\n",
       "      <td>Standard</td>\n",
       "    </tr>\n",
       "    <tr>\n",
       "      <th>34995</th>\n",
       "      <td>0xe30d</td>\n",
       "      <td>CUS_0x6aea</td>\n",
       "      <td>April</td>\n",
       "      <td>Pete Sweeneyu</td>\n",
       "      <td>22</td>\n",
       "      <td>289-76-4615</td>\n",
       "      <td>Architect</td>\n",
       "      <td>54150.09</td>\n",
       "      <td>4595.507500</td>\n",
       "      <td>8</td>\n",
       "      <td>...</td>\n",
       "      <td>_</td>\n",
       "      <td>4204.98</td>\n",
       "      <td>33.958625</td>\n",
       "      <td>9 Years and 8 Months</td>\n",
       "      <td>Yes</td>\n",
       "      <td>211.387222</td>\n",
       "      <td>160.1412464093078</td>\n",
       "      <td>High_spent_Medium_value_payments</td>\n",
       "      <td>338.02228165174284</td>\n",
       "      <td>Standard</td>\n",
       "    </tr>\n",
       "    <tr>\n",
       "      <th>53185</th>\n",
       "      <td>0x14da3</td>\n",
       "      <td>CUS_0x727a</td>\n",
       "      <td>February</td>\n",
       "      <td>Sonali Paula</td>\n",
       "      <td>40</td>\n",
       "      <td>364-26-4442</td>\n",
       "      <td>Doctor</td>\n",
       "      <td>68529.92</td>\n",
       "      <td>6000.826667</td>\n",
       "      <td>10</td>\n",
       "      <td>...</td>\n",
       "      <td>Standard</td>\n",
       "      <td>2643.57</td>\n",
       "      <td>32.322121</td>\n",
       "      <td>13 Years and 9 Months</td>\n",
       "      <td>Yes</td>\n",
       "      <td>318.194362</td>\n",
       "      <td>268.4400041431268</td>\n",
       "      <td>Low_spent_Large_value_payments</td>\n",
       "      <td>283.448301009847</td>\n",
       "      <td>Standard</td>\n",
       "    </tr>\n",
       "    <tr>\n",
       "      <th>72648</th>\n",
       "      <td>0x1bfae</td>\n",
       "      <td>CUS_0xa1bc</td>\n",
       "      <td>January</td>\n",
       "      <td>Dan Wilchinsb</td>\n",
       "      <td>22</td>\n",
       "      <td>718-92-6793</td>\n",
       "      <td>Developer</td>\n",
       "      <td>45455.94_</td>\n",
       "      <td>3917.995000</td>\n",
       "      <td>7</td>\n",
       "      <td>...</td>\n",
       "      <td>Bad</td>\n",
       "      <td>3982.17</td>\n",
       "      <td>36.950706</td>\n",
       "      <td>NaN</td>\n",
       "      <td>Yes</td>\n",
       "      <td>224.982383</td>\n",
       "      <td>142.9905622145768</td>\n",
       "      <td>Low_spent_Medium_value_payments</td>\n",
       "      <td>303.82655487437745</td>\n",
       "      <td>Poor</td>\n",
       "    </tr>\n",
       "    <tr>\n",
       "      <th>95687</th>\n",
       "      <td>0x246a9</td>\n",
       "      <td>CUS_0xc0ff</td>\n",
       "      <td>August</td>\n",
       "      <td>Emmanuel Olaoyeb</td>\n",
       "      <td>19</td>\n",
       "      <td>208-90-1240</td>\n",
       "      <td>Writer</td>\n",
       "      <td>12941.135</td>\n",
       "      <td>1201.427917</td>\n",
       "      <td>5</td>\n",
       "      <td>...</td>\n",
       "      <td>Standard</td>\n",
       "      <td>219.36</td>\n",
       "      <td>22.010279</td>\n",
       "      <td>12 Years and 0 Months</td>\n",
       "      <td>Yes</td>\n",
       "      <td>74.950922</td>\n",
       "      <td>53.32791083617829</td>\n",
       "      <td>Low_spent_Medium_value_payments</td>\n",
       "      <td>271.8639586332209</td>\n",
       "      <td>Standard</td>\n",
       "    </tr>\n",
       "  </tbody>\n",
       "</table>\n",
       "<p>10 rows × 28 columns</p>\n",
       "</div>"
      ],
      "text/plain": [
       "            ID Customer_ID     Month               Name Age          SSN  \\\n",
       "80837  0x1efa7  CUS_0xc065      June                NaN  48  138-39-8101   \n",
       "32042   0xd1c0  CUS_0x7976     March  Michelle Nicholsc  32  616-00-4975   \n",
       "72558  0x1bf24  CUS_0x86d9      July  Emily Stephensonm  54  828-32-1568   \n",
       "71268  0x1b796  CUS_0x6f3b       May             Ortizo  52  594-88-0270   \n",
       "44684  0x11bd2  CUS_0x5262       May          Bhaswatit  32  541-53-3205   \n",
       "79184  0x1e5fa  CUS_0x4bda   January        Fayen Wongk  53  826-37-6944   \n",
       "34995   0xe30d  CUS_0x6aea     April      Pete Sweeneyu  22  289-76-4615   \n",
       "53185  0x14da3  CUS_0x727a  February       Sonali Paula  40  364-26-4442   \n",
       "72648  0x1bfae  CUS_0xa1bc   January      Dan Wilchinsb  22  718-92-6793   \n",
       "95687  0x246a9  CUS_0xc0ff    August   Emmanuel Olaoyeb  19  208-90-1240   \n",
       "\n",
       "       Occupation Annual_Income  Monthly_Inhand_Salary  Num_Bank_Accounts  \\\n",
       "80837  Accountant     35341.99_            2935.165833                  5   \n",
       "32042      Lawyer      67629.14            5479.761667                  0   \n",
       "72558  Accountant     20868.005            1574.000417                  2   \n",
       "71268      Writer      30936.76            2311.063333                  0   \n",
       "44684   Developer      78339.66            6562.305000                  3   \n",
       "79184      Doctor      69886.64            5673.886667                  4   \n",
       "34995   Architect      54150.09            4595.507500                  8   \n",
       "53185      Doctor      68529.92            6000.826667                 10   \n",
       "72648   Developer     45455.94_            3917.995000                  7   \n",
       "95687      Writer     12941.135            1201.427917                  5   \n",
       "\n",
       "       ...  Credit_Mix  Outstanding_Debt Credit_Utilization_Ratio  \\\n",
       "80837  ...        Good           1411.87                27.427709   \n",
       "32042  ...        Good            177.03                37.197259   \n",
       "72558  ...        Good            905.47                32.241801   \n",
       "71268  ...        Good            761.34                31.629013   \n",
       "44684  ...    Standard            285.36                37.769355   \n",
       "79184  ...        Good            683.01                29.978979   \n",
       "34995  ...           _           4204.98                33.958625   \n",
       "53185  ...    Standard           2643.57                32.322121   \n",
       "72648  ...         Bad           3982.17                36.950706   \n",
       "95687  ...    Standard            219.36                22.010279   \n",
       "\n",
       "          Credit_History_Age  Payment_of_Min_Amount Total_EMI_per_month  \\\n",
       "80837  30 Years and 2 Months                     No           18.160494   \n",
       "32042  32 Years and 0 Months                     No           45.550749   \n",
       "72558  24 Years and 1 Months                     No           48.647009   \n",
       "71268  18 Years and 5 Months                     No           33.796693   \n",
       "44684  19 Years and 2 Months                     No        43167.000000   \n",
       "79184  17 Years and 3 Months                     No           57.134763   \n",
       "34995   9 Years and 8 Months                    Yes          211.387222   \n",
       "53185  13 Years and 9 Months                    Yes          318.194362   \n",
       "72648                    NaN                    Yes          224.982383   \n",
       "95687  12 Years and 0 Months                    Yes           74.950922   \n",
       "\n",
       "      Amount_invested_monthly                 Payment_Behaviour  \\\n",
       "80837      118.47566961293992   High_spent_Small_value_payments   \n",
       "32042       179.5041821392071  High_spent_Medium_value_payments   \n",
       "72558        189.619306248734    Low_spent_Small_value_payments   \n",
       "71268        182.249206704862    Low_spent_Small_value_payments   \n",
       "44684       663.2181927504098    Low_spent_Small_value_payments   \n",
       "79184      417.89335585697233   Low_spent_Medium_value_payments   \n",
       "34995       160.1412464093078  High_spent_Medium_value_payments   \n",
       "53185       268.4400041431268    Low_spent_Large_value_payments   \n",
       "72648       142.9905622145768   Low_spent_Medium_value_payments   \n",
       "95687       53.32791083617829   Low_spent_Medium_value_payments   \n",
       "\n",
       "          Monthly_Balance Credit_Score  \n",
       "80837   416.8804198293405         Good  \n",
       "32042   572.9212354154361     Standard  \n",
       "72558  209.13372625301983         Good  \n",
       "71268  305.06043324654695         Poor  \n",
       "44684  195.77809893306755     Standard  \n",
       "79184   372.3605475226435     Standard  \n",
       "34995  338.02228165174284     Standard  \n",
       "53185    283.448301009847     Standard  \n",
       "72648  303.82655487437745         Poor  \n",
       "95687   271.8639586332209     Standard  \n",
       "\n",
       "[10 rows x 28 columns]"
      ]
     },
     "execution_count": 3,
     "metadata": {},
     "output_type": "execute_result"
    }
   ],
   "source": [
    "df.sample(10)"
   ]
  },
  {
   "cell_type": "markdown",
   "id": "4457e825",
   "metadata": {},
   "source": [
    "## Data Exploration"
   ]
  },
  {
   "cell_type": "code",
   "execution_count": 4,
   "id": "7f9bb15f",
   "metadata": {
    "execution": {
     "iopub.execute_input": "2022-10-15T05:44:13.174781Z",
     "iopub.status.busy": "2022-10-15T05:44:13.174459Z",
     "iopub.status.idle": "2022-10-15T05:44:13.180380Z",
     "shell.execute_reply": "2022-10-15T05:44:13.179475Z",
     "shell.execute_reply.started": "2022-10-15T05:44:13.174740Z"
    }
   },
   "outputs": [
    {
     "data": {
      "text/plain": [
       "(100000, 28)"
      ]
     },
     "execution_count": 4,
     "metadata": {},
     "output_type": "execute_result"
    }
   ],
   "source": [
    "df.shape"
   ]
  },
  {
   "cell_type": "code",
   "execution_count": 5,
   "id": "8a1d97b6",
   "metadata": {
    "execution": {
     "iopub.execute_input": "2022-10-15T05:44:13.182211Z",
     "iopub.status.busy": "2022-10-15T05:44:13.181696Z",
     "iopub.status.idle": "2022-10-15T05:44:13.302574Z",
     "shell.execute_reply": "2022-10-15T05:44:13.301984Z",
     "shell.execute_reply.started": "2022-10-15T05:44:13.182182Z"
    }
   },
   "outputs": [
    {
     "name": "stdout",
     "output_type": "stream",
     "text": [
      "<class 'pandas.core.frame.DataFrame'>\n",
      "RangeIndex: 100000 entries, 0 to 99999\n",
      "Data columns (total 28 columns):\n",
      " #   Column                    Non-Null Count   Dtype  \n",
      "---  ------                    --------------   -----  \n",
      " 0   ID                        100000 non-null  object \n",
      " 1   Customer_ID               100000 non-null  object \n",
      " 2   Month                     100000 non-null  object \n",
      " 3   Name                      90015 non-null   object \n",
      " 4   Age                       100000 non-null  object \n",
      " 5   SSN                       100000 non-null  object \n",
      " 6   Occupation                100000 non-null  object \n",
      " 7   Annual_Income             100000 non-null  object \n",
      " 8   Monthly_Inhand_Salary     84998 non-null   float64\n",
      " 9   Num_Bank_Accounts         100000 non-null  int64  \n",
      " 10  Num_Credit_Card           100000 non-null  int64  \n",
      " 11  Interest_Rate             100000 non-null  int64  \n",
      " 12  Num_of_Loan               100000 non-null  object \n",
      " 13  Type_of_Loan              88592 non-null   object \n",
      " 14  Delay_from_due_date       100000 non-null  int64  \n",
      " 15  Num_of_Delayed_Payment    92998 non-null   object \n",
      " 16  Changed_Credit_Limit      100000 non-null  object \n",
      " 17  Num_Credit_Inquiries      98035 non-null   float64\n",
      " 18  Credit_Mix                100000 non-null  object \n",
      " 19  Outstanding_Debt          100000 non-null  object \n",
      " 20  Credit_Utilization_Ratio  100000 non-null  float64\n",
      " 21  Credit_History_Age        90970 non-null   object \n",
      " 22  Payment_of_Min_Amount     100000 non-null  object \n",
      " 23  Total_EMI_per_month       100000 non-null  float64\n",
      " 24  Amount_invested_monthly   95521 non-null   object \n",
      " 25  Payment_Behaviour         100000 non-null  object \n",
      " 26  Monthly_Balance           98800 non-null   object \n",
      " 27  Credit_Score              100000 non-null  object \n",
      "dtypes: float64(4), int64(4), object(20)\n",
      "memory usage: 21.4+ MB\n"
     ]
    }
   ],
   "source": [
    "df.info()"
   ]
  },
  {
   "cell_type": "code",
   "execution_count": 6,
   "id": "839dc15e",
   "metadata": {
    "execution": {
     "iopub.execute_input": "2022-10-15T05:44:13.304143Z",
     "iopub.status.busy": "2022-10-15T05:44:13.303729Z",
     "iopub.status.idle": "2022-10-15T05:44:13.358928Z",
     "shell.execute_reply": "2022-10-15T05:44:13.358355Z",
     "shell.execute_reply.started": "2022-10-15T05:44:13.304092Z"
    }
   },
   "outputs": [
    {
     "data": {
      "text/html": [
       "<div>\n",
       "<style scoped>\n",
       "    .dataframe tbody tr th:only-of-type {\n",
       "        vertical-align: middle;\n",
       "    }\n",
       "\n",
       "    .dataframe tbody tr th {\n",
       "        vertical-align: top;\n",
       "    }\n",
       "\n",
       "    .dataframe thead th {\n",
       "        text-align: right;\n",
       "    }\n",
       "</style>\n",
       "<table border=\"1\" class=\"dataframe\">\n",
       "  <thead>\n",
       "    <tr style=\"text-align: right;\">\n",
       "      <th></th>\n",
       "      <th>Monthly_Inhand_Salary</th>\n",
       "      <th>Num_Bank_Accounts</th>\n",
       "      <th>Num_Credit_Card</th>\n",
       "      <th>Interest_Rate</th>\n",
       "      <th>Delay_from_due_date</th>\n",
       "      <th>Num_Credit_Inquiries</th>\n",
       "      <th>Credit_Utilization_Ratio</th>\n",
       "      <th>Total_EMI_per_month</th>\n",
       "    </tr>\n",
       "  </thead>\n",
       "  <tbody>\n",
       "    <tr>\n",
       "      <th>count</th>\n",
       "      <td>84998.000000</td>\n",
       "      <td>100000.000000</td>\n",
       "      <td>100000.00000</td>\n",
       "      <td>100000.000000</td>\n",
       "      <td>100000.000000</td>\n",
       "      <td>98035.000000</td>\n",
       "      <td>100000.000000</td>\n",
       "      <td>100000.000000</td>\n",
       "    </tr>\n",
       "    <tr>\n",
       "      <th>mean</th>\n",
       "      <td>4194.170850</td>\n",
       "      <td>17.091280</td>\n",
       "      <td>22.47443</td>\n",
       "      <td>72.466040</td>\n",
       "      <td>21.068780</td>\n",
       "      <td>27.754251</td>\n",
       "      <td>32.285173</td>\n",
       "      <td>1403.118217</td>\n",
       "    </tr>\n",
       "    <tr>\n",
       "      <th>std</th>\n",
       "      <td>3183.686167</td>\n",
       "      <td>117.404834</td>\n",
       "      <td>129.05741</td>\n",
       "      <td>466.422621</td>\n",
       "      <td>14.860104</td>\n",
       "      <td>193.177339</td>\n",
       "      <td>5.116875</td>\n",
       "      <td>8306.041270</td>\n",
       "    </tr>\n",
       "    <tr>\n",
       "      <th>min</th>\n",
       "      <td>303.645417</td>\n",
       "      <td>-1.000000</td>\n",
       "      <td>0.00000</td>\n",
       "      <td>1.000000</td>\n",
       "      <td>-5.000000</td>\n",
       "      <td>0.000000</td>\n",
       "      <td>20.000000</td>\n",
       "      <td>0.000000</td>\n",
       "    </tr>\n",
       "    <tr>\n",
       "      <th>25%</th>\n",
       "      <td>1625.568229</td>\n",
       "      <td>3.000000</td>\n",
       "      <td>4.00000</td>\n",
       "      <td>8.000000</td>\n",
       "      <td>10.000000</td>\n",
       "      <td>3.000000</td>\n",
       "      <td>28.052567</td>\n",
       "      <td>30.306660</td>\n",
       "    </tr>\n",
       "    <tr>\n",
       "      <th>50%</th>\n",
       "      <td>3093.745000</td>\n",
       "      <td>6.000000</td>\n",
       "      <td>5.00000</td>\n",
       "      <td>13.000000</td>\n",
       "      <td>18.000000</td>\n",
       "      <td>6.000000</td>\n",
       "      <td>32.305784</td>\n",
       "      <td>69.249473</td>\n",
       "    </tr>\n",
       "    <tr>\n",
       "      <th>75%</th>\n",
       "      <td>5957.448333</td>\n",
       "      <td>7.000000</td>\n",
       "      <td>7.00000</td>\n",
       "      <td>20.000000</td>\n",
       "      <td>28.000000</td>\n",
       "      <td>9.000000</td>\n",
       "      <td>36.496663</td>\n",
       "      <td>161.224249</td>\n",
       "    </tr>\n",
       "    <tr>\n",
       "      <th>max</th>\n",
       "      <td>15204.633333</td>\n",
       "      <td>1798.000000</td>\n",
       "      <td>1499.00000</td>\n",
       "      <td>5797.000000</td>\n",
       "      <td>67.000000</td>\n",
       "      <td>2597.000000</td>\n",
       "      <td>50.000000</td>\n",
       "      <td>82331.000000</td>\n",
       "    </tr>\n",
       "  </tbody>\n",
       "</table>\n",
       "</div>"
      ],
      "text/plain": [
       "       Monthly_Inhand_Salary  Num_Bank_Accounts  Num_Credit_Card  \\\n",
       "count           84998.000000      100000.000000     100000.00000   \n",
       "mean             4194.170850          17.091280         22.47443   \n",
       "std              3183.686167         117.404834        129.05741   \n",
       "min               303.645417          -1.000000          0.00000   \n",
       "25%              1625.568229           3.000000          4.00000   \n",
       "50%              3093.745000           6.000000          5.00000   \n",
       "75%              5957.448333           7.000000          7.00000   \n",
       "max             15204.633333        1798.000000       1499.00000   \n",
       "\n",
       "       Interest_Rate  Delay_from_due_date  Num_Credit_Inquiries  \\\n",
       "count  100000.000000        100000.000000          98035.000000   \n",
       "mean       72.466040            21.068780             27.754251   \n",
       "std       466.422621            14.860104            193.177339   \n",
       "min         1.000000            -5.000000              0.000000   \n",
       "25%         8.000000            10.000000              3.000000   \n",
       "50%        13.000000            18.000000              6.000000   \n",
       "75%        20.000000            28.000000              9.000000   \n",
       "max      5797.000000            67.000000           2597.000000   \n",
       "\n",
       "       Credit_Utilization_Ratio  Total_EMI_per_month  \n",
       "count             100000.000000        100000.000000  \n",
       "mean                  32.285173          1403.118217  \n",
       "std                    5.116875          8306.041270  \n",
       "min                   20.000000             0.000000  \n",
       "25%                   28.052567            30.306660  \n",
       "50%                   32.305784            69.249473  \n",
       "75%                   36.496663           161.224249  \n",
       "max                   50.000000         82331.000000  "
      ]
     },
     "execution_count": 6,
     "metadata": {},
     "output_type": "execute_result"
    }
   ],
   "source": [
    "df.describe()"
   ]
  },
  {
   "cell_type": "code",
   "execution_count": 7,
   "id": "d765a225",
   "metadata": {
    "execution": {
     "iopub.execute_input": "2022-10-15T05:44:13.360497Z",
     "iopub.status.busy": "2022-10-15T05:44:13.360219Z",
     "iopub.status.idle": "2022-10-15T05:44:13.640611Z",
     "shell.execute_reply": "2022-10-15T05:44:13.639734Z",
     "shell.execute_reply.started": "2022-10-15T05:44:13.360471Z"
    }
   },
   "outputs": [
    {
     "data": {
      "text/plain": [
       "0"
      ]
     },
     "execution_count": 7,
     "metadata": {},
     "output_type": "execute_result"
    }
   ],
   "source": [
    "df.duplicated().sum()"
   ]
  },
  {
   "cell_type": "code",
   "execution_count": 4,
   "id": "1e04657f",
   "metadata": {
    "execution": {
     "iopub.execute_input": "2022-10-15T05:44:13.642580Z",
     "iopub.status.busy": "2022-10-15T05:44:13.642060Z",
     "iopub.status.idle": "2022-10-15T05:44:14.038424Z",
     "shell.execute_reply": "2022-10-15T05:44:14.037582Z",
     "shell.execute_reply.started": "2022-10-15T05:44:13.642538Z"
    }
   },
   "outputs": [
    {
     "data": {
      "text/html": [
       "<div>\n",
       "<style scoped>\n",
       "    .dataframe tbody tr th:only-of-type {\n",
       "        vertical-align: middle;\n",
       "    }\n",
       "\n",
       "    .dataframe tbody tr th {\n",
       "        vertical-align: top;\n",
       "    }\n",
       "\n",
       "    .dataframe thead th {\n",
       "        text-align: right;\n",
       "    }\n",
       "</style>\n",
       "<table border=\"1\" class=\"dataframe\">\n",
       "  <thead>\n",
       "    <tr style=\"text-align: right;\">\n",
       "      <th></th>\n",
       "      <th>Monthly_Inhand_Salary</th>\n",
       "      <th>Num_Bank_Accounts</th>\n",
       "      <th>Num_Credit_Card</th>\n",
       "      <th>Interest_Rate</th>\n",
       "      <th>Delay_from_due_date</th>\n",
       "      <th>Num_Credit_Inquiries</th>\n",
       "      <th>Credit_Utilization_Ratio</th>\n",
       "      <th>Total_EMI_per_month</th>\n",
       "    </tr>\n",
       "  </thead>\n",
       "  <tbody>\n",
       "    <tr>\n",
       "      <th>Monthly_Inhand_Salary</th>\n",
       "      <td>1.000000</td>\n",
       "      <td>-0.010819</td>\n",
       "      <td>-0.005049</td>\n",
       "      <td>-0.006422</td>\n",
       "      <td>-0.250100</td>\n",
       "      <td>-0.008867</td>\n",
       "      <td>0.173192</td>\n",
       "      <td>0.007264</td>\n",
       "    </tr>\n",
       "    <tr>\n",
       "      <th>Num_Bank_Accounts</th>\n",
       "      <td>-0.010819</td>\n",
       "      <td>1.000000</td>\n",
       "      <td>-0.002216</td>\n",
       "      <td>-0.003998</td>\n",
       "      <td>0.015966</td>\n",
       "      <td>-0.001683</td>\n",
       "      <td>-0.001365</td>\n",
       "      <td>-0.001433</td>\n",
       "    </tr>\n",
       "    <tr>\n",
       "      <th>Num_Credit_Card</th>\n",
       "      <td>-0.005049</td>\n",
       "      <td>-0.002216</td>\n",
       "      <td>1.000000</td>\n",
       "      <td>-0.004012</td>\n",
       "      <td>0.008715</td>\n",
       "      <td>-0.003479</td>\n",
       "      <td>-0.003341</td>\n",
       "      <td>0.000768</td>\n",
       "    </tr>\n",
       "    <tr>\n",
       "      <th>Interest_Rate</th>\n",
       "      <td>-0.006422</td>\n",
       "      <td>-0.003998</td>\n",
       "      <td>-0.004012</td>\n",
       "      <td>1.000000</td>\n",
       "      <td>0.009792</td>\n",
       "      <td>-0.001681</td>\n",
       "      <td>-0.000359</td>\n",
       "      <td>0.002517</td>\n",
       "    </tr>\n",
       "    <tr>\n",
       "      <th>Delay_from_due_date</th>\n",
       "      <td>-0.250100</td>\n",
       "      <td>0.015966</td>\n",
       "      <td>0.008715</td>\n",
       "      <td>0.009792</td>\n",
       "      <td>1.000000</td>\n",
       "      <td>0.011508</td>\n",
       "      <td>-0.063796</td>\n",
       "      <td>-0.003889</td>\n",
       "    </tr>\n",
       "    <tr>\n",
       "      <th>Num_Credit_Inquiries</th>\n",
       "      <td>-0.008867</td>\n",
       "      <td>-0.001683</td>\n",
       "      <td>-0.003479</td>\n",
       "      <td>-0.001681</td>\n",
       "      <td>0.011508</td>\n",
       "      <td>1.000000</td>\n",
       "      <td>0.000145</td>\n",
       "      <td>-0.007031</td>\n",
       "    </tr>\n",
       "    <tr>\n",
       "      <th>Credit_Utilization_Ratio</th>\n",
       "      <td>0.173192</td>\n",
       "      <td>-0.001365</td>\n",
       "      <td>-0.003341</td>\n",
       "      <td>-0.000359</td>\n",
       "      <td>-0.063796</td>\n",
       "      <td>0.000145</td>\n",
       "      <td>1.000000</td>\n",
       "      <td>0.001389</td>\n",
       "    </tr>\n",
       "    <tr>\n",
       "      <th>Total_EMI_per_month</th>\n",
       "      <td>0.007264</td>\n",
       "      <td>-0.001433</td>\n",
       "      <td>0.000768</td>\n",
       "      <td>0.002517</td>\n",
       "      <td>-0.003889</td>\n",
       "      <td>-0.007031</td>\n",
       "      <td>0.001389</td>\n",
       "      <td>1.000000</td>\n",
       "    </tr>\n",
       "  </tbody>\n",
       "</table>\n",
       "</div>"
      ],
      "text/plain": [
       "                          Monthly_Inhand_Salary  Num_Bank_Accounts  \\\n",
       "Monthly_Inhand_Salary                  1.000000          -0.010819   \n",
       "Num_Bank_Accounts                     -0.010819           1.000000   \n",
       "Num_Credit_Card                       -0.005049          -0.002216   \n",
       "Interest_Rate                         -0.006422          -0.003998   \n",
       "Delay_from_due_date                   -0.250100           0.015966   \n",
       "Num_Credit_Inquiries                  -0.008867          -0.001683   \n",
       "Credit_Utilization_Ratio               0.173192          -0.001365   \n",
       "Total_EMI_per_month                    0.007264          -0.001433   \n",
       "\n",
       "                          Num_Credit_Card  Interest_Rate  Delay_from_due_date  \\\n",
       "Monthly_Inhand_Salary           -0.005049      -0.006422            -0.250100   \n",
       "Num_Bank_Accounts               -0.002216      -0.003998             0.015966   \n",
       "Num_Credit_Card                  1.000000      -0.004012             0.008715   \n",
       "Interest_Rate                   -0.004012       1.000000             0.009792   \n",
       "Delay_from_due_date              0.008715       0.009792             1.000000   \n",
       "Num_Credit_Inquiries            -0.003479      -0.001681             0.011508   \n",
       "Credit_Utilization_Ratio        -0.003341      -0.000359            -0.063796   \n",
       "Total_EMI_per_month              0.000768       0.002517            -0.003889   \n",
       "\n",
       "                          Num_Credit_Inquiries  Credit_Utilization_Ratio  \\\n",
       "Monthly_Inhand_Salary                -0.008867                  0.173192   \n",
       "Num_Bank_Accounts                    -0.001683                 -0.001365   \n",
       "Num_Credit_Card                      -0.003479                 -0.003341   \n",
       "Interest_Rate                        -0.001681                 -0.000359   \n",
       "Delay_from_due_date                   0.011508                 -0.063796   \n",
       "Num_Credit_Inquiries                  1.000000                  0.000145   \n",
       "Credit_Utilization_Ratio              0.000145                  1.000000   \n",
       "Total_EMI_per_month                  -0.007031                  0.001389   \n",
       "\n",
       "                          Total_EMI_per_month  \n",
       "Monthly_Inhand_Salary                0.007264  \n",
       "Num_Bank_Accounts                   -0.001433  \n",
       "Num_Credit_Card                      0.000768  \n",
       "Interest_Rate                        0.002517  \n",
       "Delay_from_due_date                 -0.003889  \n",
       "Num_Credit_Inquiries                -0.007031  \n",
       "Credit_Utilization_Ratio             0.001389  \n",
       "Total_EMI_per_month                  1.000000  "
      ]
     },
     "execution_count": 4,
     "metadata": {},
     "output_type": "execute_result"
    }
   ],
   "source": [
    "df.corr()"
   ]
  },
  {
   "cell_type": "code",
   "execution_count": 9,
   "id": "c25362a2",
   "metadata": {
    "execution": {
     "iopub.execute_input": "2022-10-15T05:44:14.040485Z",
     "iopub.status.busy": "2022-10-15T05:44:14.039957Z",
     "iopub.status.idle": "2022-10-15T05:44:14.515238Z",
     "shell.execute_reply": "2022-10-15T05:44:14.514370Z",
     "shell.execute_reply.started": "2022-10-15T05:44:14.040443Z"
    }
   },
   "outputs": [
    {
     "data": {
      "image/png": "[encoded data removed]",
      "text/plain": [
       "<Figure size 1008x504 with 1 Axes>"
      ]
     },
     "metadata": {},
     "output_type": "display_data"
    }
   ],
   "source": [
    "sns.countplot(df['Occupation'],palette=\"mako\");\n",
    "plt.xticks(rotation=45);"
   ]
  },
  {
   "cell_type": "code",
   "execution_count": 10,
   "id": "46dce330",
   "metadata": {
    "execution": {
     "iopub.execute_input": "2022-10-15T05:44:14.517915Z",
     "iopub.status.busy": "2022-10-15T05:44:14.517688Z",
     "iopub.status.idle": "2022-10-15T05:44:14.846076Z",
     "shell.execute_reply": "2022-10-15T05:44:14.845234Z",
     "shell.execute_reply.started": "2022-10-15T05:44:14.517889Z"
    }
   },
   "outputs": [
    {
     "data": {
      "image/png": "[encoded data removed]",
      "text/plain": [
       "<Figure size 1008x504 with 1 Axes>"
      ]
     },
     "metadata": {},
     "output_type": "display_data"
    }
   ],
   "source": [
    "sns.countplot(df['Credit_Mix'],palette=\"mako\");\n",
    "plt.xticks(rotation=45);"
   ]
  },
  {
   "cell_type": "code",
   "execution_count": 11,
   "id": "f869e7ca",
   "metadata": {
    "execution": {
     "iopub.execute_input": "2022-10-15T05:44:14.847373Z",
     "iopub.status.busy": "2022-10-15T05:44:14.847121Z",
     "iopub.status.idle": "2022-10-15T05:44:15.148010Z",
     "shell.execute_reply": "2022-10-15T05:44:15.147160Z",
     "shell.execute_reply.started": "2022-10-15T05:44:14.847347Z"
    }
   },
   "outputs": [
    {
     "data": {
      "image/png": "[encoded data removed]",
      "text/plain": [
       "<Figure size 1008x504 with 1 Axes>"
      ]
     },
     "metadata": {},
     "output_type": "display_data"
    }
   ],
   "source": [
    "sns.countplot(df['Payment_of_Min_Amount'],palette=\"mako\");\n",
    "plt.xticks(rotation=45);"
   ]
  },
  {
   "cell_type": "code",
   "execution_count": 12,
   "id": "88a5e966",
   "metadata": {
    "execution": {
     "iopub.execute_input": "2022-10-15T05:44:15.149388Z",
     "iopub.status.busy": "2022-10-15T05:44:15.149152Z",
     "iopub.status.idle": "2022-10-15T05:44:15.570019Z",
     "shell.execute_reply": "2022-10-15T05:44:15.569330Z",
     "shell.execute_reply.started": "2022-10-15T05:44:15.149361Z"
    }
   },
   "outputs": [
    {
     "data": {
      "image/png": "[encoded data removed]",
      "text/plain": [
       "<Figure size 1008x504 with 1 Axes>"
      ]
     },
     "metadata": {},
     "output_type": "display_data"
    }
   ],
   "source": [
    "sns.countplot(df['Payment_Behaviour'],palette=\"mako\");\n",
    "plt.xticks(rotation=45);"
   ]
  },
  {
   "cell_type": "markdown",
   "id": "85cb8b8a",
   "metadata": {},
   "source": [
    "# Plotting The Target "
   ]
  },
  {
   "cell_type": "code",
   "execution_count": 13,
   "id": "b8fa95ce",
   "metadata": {
    "execution": {
     "iopub.execute_input": "2022-10-15T05:44:15.571699Z",
     "iopub.status.busy": "2022-10-15T05:44:15.571253Z",
     "iopub.status.idle": "2022-10-15T05:44:15.875646Z",
     "shell.execute_reply": "2022-10-15T05:44:15.875049Z",
     "shell.execute_reply.started": "2022-10-15T05:44:15.571668Z"
    }
   },
   "outputs": [
    {
     "data": {
      "image/png": "[encoded data removed]",
      "text/plain": [
       "<Figure size 1008x504 with 1 Axes>"
      ]
     },
     "metadata": {},
     "output_type": "display_data"
    }
   ],
   "source": [
    "sns.countplot(df['Credit_Score'],palette=\"mako\");\n",
    "plt.xticks(rotation=45);"
   ]
  },
  {
   "cell_type": "code",
   "execution_count": 14,
   "id": "f0752699",
   "metadata": {
    "execution": {
     "iopub.execute_input": "2022-10-15T05:44:15.877130Z",
     "iopub.status.busy": "2022-10-15T05:44:15.876881Z",
     "iopub.status.idle": "2022-10-15T05:44:15.888635Z",
     "shell.execute_reply": "2022-10-15T05:44:15.887931Z",
     "shell.execute_reply.started": "2022-10-15T05:44:15.877100Z"
    }
   },
   "outputs": [
    {
     "data": {
      "text/plain": [
       "Standard    0.53174\n",
       "Poor        0.28998\n",
       "Good        0.17828\n",
       "Name: Credit_Score, dtype: float64"
      ]
     },
     "execution_count": 14,
     "metadata": {},
     "output_type": "execute_result"
    }
   ],
   "source": [
    "df['Credit_Score'].value_counts(normalize=True)"
   ]
  },
  {
   "cell_type": "code",
   "execution_count": 15,
   "id": "9d844eef",
   "metadata": {
    "execution": {
     "iopub.execute_input": "2022-10-15T05:44:15.889927Z",
     "iopub.status.busy": "2022-10-15T05:44:15.889695Z",
     "iopub.status.idle": "2022-10-15T05:44:16.876143Z",
     "shell.execute_reply": "2022-10-15T05:44:16.875232Z",
     "shell.execute_reply.started": "2022-10-15T05:44:15.889901Z"
    }
   },
   "outputs": [
    {
     "data": {
      "image/png": "[encoded data removed]",
      "text/plain": [
       "<Figure size 1008x504 with 1 Axes>"
      ]
     },
     "metadata": {},
     "output_type": "display_data"
    }
   ],
   "source": [
    "sns.distplot(df['Monthly_Inhand_Salary']);"
   ]
  },
  {
   "cell_type": "code",
   "execution_count": 16,
   "id": "5e553c69",
   "metadata": {
    "execution": {
     "iopub.execute_input": "2022-10-15T05:44:16.877844Z",
     "iopub.status.busy": "2022-10-15T05:44:16.877581Z",
     "iopub.status.idle": "2022-10-15T05:44:17.832415Z",
     "shell.execute_reply": "2022-10-15T05:44:17.831404Z",
     "shell.execute_reply.started": "2022-10-15T05:44:16.877813Z"
    }
   },
   "outputs": [
    {
     "data": {
      "image/png": "[encoded data removed]",
      "text/plain": [
       "<Figure size 1008x504 with 1 Axes>"
      ]
     },
     "metadata": {},
     "output_type": "display_data"
    }
   ],
   "source": [
    "sns.distplot(df['Num_Bank_Accounts']);"
   ]
  },
  {
   "cell_type": "code",
   "execution_count": 17,
   "id": "3e0a415f",
   "metadata": {
    "execution": {
     "iopub.execute_input": "2022-10-15T05:44:17.834382Z",
     "iopub.status.busy": "2022-10-15T05:44:17.833847Z",
     "iopub.status.idle": "2022-10-15T05:44:18.802282Z",
     "shell.execute_reply": "2022-10-15T05:44:18.801485Z",
     "shell.execute_reply.started": "2022-10-15T05:44:17.834326Z"
    }
   },
   "outputs": [
    {
     "data": {
      "image/png": "[encoded data removed]",
      "text/plain": [
       "<Figure size 1008x504 with 1 Axes>"
      ]
     },
     "metadata": {},
     "output_type": "display_data"
    }
   ],
   "source": [
    "sns.distplot(df['Num_Credit_Card']);"
   ]
  },
  {
   "cell_type": "code",
   "execution_count": 18,
   "id": "22309e8b",
   "metadata": {
    "execution": {
     "iopub.execute_input": "2022-10-15T05:44:18.803517Z",
     "iopub.status.busy": "2022-10-15T05:44:18.803303Z",
     "iopub.status.idle": "2022-10-15T05:44:19.769181Z",
     "shell.execute_reply": "2022-10-15T05:44:19.768555Z",
     "shell.execute_reply.started": "2022-10-15T05:44:18.803492Z"
    }
   },
   "outputs": [
    {
     "data": {
      "image/png": "[encoded data removed]",
      "text/plain": [
       "<Figure size 1008x504 with 1 Axes>"
      ]
     },
     "metadata": {},
     "output_type": "display_data"
    }
   ],
   "source": [
    "sns.distplot(df['Interest_Rate']);"
   ]
  },
  {
   "cell_type": "code",
   "execution_count": 19,
   "id": "7bc8f027",
   "metadata": {
    "execution": {
     "iopub.execute_input": "2022-10-15T05:44:19.770987Z",
     "iopub.status.busy": "2022-10-15T05:44:19.770533Z",
     "iopub.status.idle": "2022-10-15T05:44:20.820131Z",
     "shell.execute_reply": "2022-10-15T05:44:20.819215Z",
     "shell.execute_reply.started": "2022-10-15T05:44:19.770954Z"
    }
   },
   "outputs": [
    {
     "data": {
      "image/png": "[encoded data removed]",
      "text/plain": [
       "<Figure size 1008x504 with 1 Axes>"
      ]
     },
     "metadata": {},
     "output_type": "display_data"
    }
   ],
   "source": [
    "sns.distplot(df['Delay_from_due_date']);"
   ]
  },
  {
   "cell_type": "code",
   "execution_count": 20,
   "id": "e94564c4",
   "metadata": {
    "execution": {
     "iopub.execute_input": "2022-10-15T05:44:20.821478Z",
     "iopub.status.busy": "2022-10-15T05:44:20.821218Z",
     "iopub.status.idle": "2022-10-15T05:44:21.755949Z",
     "shell.execute_reply": "2022-10-15T05:44:21.755368Z",
     "shell.execute_reply.started": "2022-10-15T05:44:20.821449Z"
    }
   },
   "outputs": [
    {
     "data": {
      "image/png": "[encoded data removed]",
      "text/plain": [
       "<Figure size 1008x504 with 1 Axes>"
      ]
     },
     "metadata": {},
     "output_type": "display_data"
    }
   ],
   "source": [
    "sns.distplot(df['Num_Credit_Inquiries']);"
   ]
  },
  {
   "cell_type": "code",
   "execution_count": 21,
   "id": "16f9fe35",
   "metadata": {
    "execution": {
     "iopub.execute_input": "2022-10-15T05:44:21.757618Z",
     "iopub.status.busy": "2022-10-15T05:44:21.756928Z",
     "iopub.status.idle": "2022-10-15T05:44:22.944130Z",
     "shell.execute_reply": "2022-10-15T05:44:22.943246Z",
     "shell.execute_reply.started": "2022-10-15T05:44:21.757585Z"
    }
   },
   "outputs": [
    {
     "data": {
      "image/png": "[encoded data removed]",
      "text/plain": [
       "<Figure size 1008x504 with 1 Axes>"
      ]
     },
     "metadata": {},
     "output_type": "display_data"
    }
   ],
   "source": [
    "sns.distplot(df['Credit_Utilization_Ratio']);"
   ]
  },
  {
   "cell_type": "code",
   "execution_count": 22,
   "id": "a891cef0",
   "metadata": {
    "execution": {
     "iopub.execute_input": "2022-10-15T05:44:22.945532Z",
     "iopub.status.busy": "2022-10-15T05:44:22.945296Z",
     "iopub.status.idle": "2022-10-15T05:44:23.908248Z",
     "shell.execute_reply": "2022-10-15T05:44:23.907593Z",
     "shell.execute_reply.started": "2022-10-15T05:44:22.945504Z"
    }
   },
   "outputs": [
    {
     "data": {
      "image/png": "[encoded data removed]",
      "text/plain": [
       "<Figure size 1008x504 with 1 Axes>"
      ]
     },
     "metadata": {},
     "output_type": "display_data"
    }
   ],
   "source": [
    "sns.distplot(df['Total_EMI_per_month']);"
   ]
  },
  {
   "cell_type": "code",
   "execution_count": 23,
   "id": "dbed2816",
   "metadata": {
    "execution": {
     "iopub.execute_input": "2022-10-15T05:44:23.909824Z",
     "iopub.status.busy": "2022-10-15T05:44:23.909463Z",
     "iopub.status.idle": "2022-10-15T05:44:23.925978Z",
     "shell.execute_reply": "2022-10-15T05:44:23.924714Z",
     "shell.execute_reply.started": "2022-10-15T05:44:23.909781Z"
    }
   },
   "outputs": [
    {
     "data": {
      "text/plain": [
       "Not Specified                      1408\n",
       "Credit-Builder Loan                1280\n",
       "Personal Loan                      1272\n",
       "Debt Consolidation Loan            1264\n",
       "Student Loan                       1240\n",
       "Payday Loan                        1200\n",
       "Mortgage Loan                      1176\n",
       "Auto Loan                          1152\n",
       "Home Equity Loan                   1136\n",
       "Personal Loan, and Student Loan     320\n",
       "Name: Type_of_Loan, dtype: int64"
      ]
     },
     "execution_count": 23,
     "metadata": {},
     "output_type": "execute_result"
    }
   ],
   "source": [
    "df['Type_of_Loan'].value_counts().head(10)"
   ]
  },
  {
   "cell_type": "markdown",
   "id": "897e3539",
   "metadata": {},
   "source": []
  },
  {
   "cell_type": "markdown",
   "id": "3c027ee5",
   "metadata": {},
   "source": [
    "## Data cleaning"
   ]
  },
  {
   "cell_type": "markdown",
   "id": "297db1c2",
   "metadata": {},
   "source": [
    "#### Removing unnecessary columns"
   ]
  },
  {
   "cell_type": "code",
   "execution_count": 24,
   "id": "44baaabd",
   "metadata": {
    "execution": {
     "iopub.execute_input": "2022-10-15T05:44:23.927602Z",
     "iopub.status.busy": "2022-10-15T05:44:23.927332Z",
     "iopub.status.idle": "2022-10-15T05:44:23.941231Z",
     "shell.execute_reply": "2022-10-15T05:44:23.940350Z",
     "shell.execute_reply.started": "2022-10-15T05:44:23.927567Z"
    }
   },
   "outputs": [],
   "source": [
    "del df['ID'] \n",
    "del df['Name']\n",
    "del df['SSN'] "
   ]
  },
  {
   "cell_type": "markdown",
   "id": "67d24d29",
   "metadata": {},
   "source": [
    "#### Fix Numerical Columns "
   ]
  },
  {
   "cell_type": "markdown",
   "id": "93c6b0a7",
   "metadata": {},
   "source": [
    "1. replace _  \n",
    "2. convert into float "
   ]
  },
  {
   "cell_type": "code",
   "execution_count": 25,
   "id": "69311c1f",
   "metadata": {
    "execution": {
     "iopub.execute_input": "2022-10-15T05:44:23.943198Z",
     "iopub.status.busy": "2022-10-15T05:44:23.942898Z",
     "iopub.status.idle": "2022-10-15T05:44:23.954460Z",
     "shell.execute_reply": "2022-10-15T05:44:23.953389Z",
     "shell.execute_reply.started": "2022-10-15T05:44:23.943163Z"
    }
   },
   "outputs": [],
   "source": [
    "N_to_fix = ['Age', 'Annual_Income', 'Num_of_Loan', 'Num_of_Delayed_Payment', 'Changed_Credit_Limit', 'Amount_invested_monthly', 'Outstanding_Debt' , 'Monthly_Balance']"
   ]
  },
  {
   "cell_type": "code",
   "execution_count": 26,
   "id": "f12e98e0",
   "metadata": {
    "execution": {
     "iopub.execute_input": "2022-10-15T05:44:23.956026Z",
     "iopub.status.busy": "2022-10-15T05:44:23.955726Z",
     "iopub.status.idle": "2022-10-15T05:44:23.966071Z",
     "shell.execute_reply": "2022-10-15T05:44:23.965208Z",
     "shell.execute_reply.started": "2022-10-15T05:44:23.955992Z"
    }
   },
   "outputs": [],
   "source": [
    "def fix_nums(num):\n",
    "    try : \n",
    "        return float(num.replace(\"_\",\"\"))\n",
    "    except :\n",
    "        return np.nan"
   ]
  },
  {
   "cell_type": "code",
   "execution_count": 27,
   "id": "e0965496",
   "metadata": {
    "execution": {
     "iopub.execute_input": "2022-10-15T05:44:23.967836Z",
     "iopub.status.busy": "2022-10-15T05:44:23.967532Z",
     "iopub.status.idle": "2022-10-15T05:44:24.484061Z",
     "shell.execute_reply": "2022-10-15T05:44:24.483253Z",
     "shell.execute_reply.started": "2022-10-15T05:44:23.967801Z"
    }
   },
   "outputs": [],
   "source": [
    "for col in N_to_fix :\n",
    "    df[col] = df[col].apply(fix_nums)"
   ]
  },
  {
   "cell_type": "markdown",
   "id": "437da723",
   "metadata": {},
   "source": [
    "### Type_of_Loan"
   ]
  },
  {
   "cell_type": "code",
   "execution_count": 28,
   "id": "a4d7309a",
   "metadata": {
    "execution": {
     "iopub.execute_input": "2022-10-15T05:44:24.489763Z",
     "iopub.status.busy": "2022-10-15T05:44:24.489506Z",
     "iopub.status.idle": "2022-10-15T05:44:24.854023Z",
     "shell.execute_reply": "2022-10-15T05:44:24.853370Z",
     "shell.execute_reply.started": "2022-10-15T05:44:24.489735Z"
    }
   },
   "outputs": [],
   "source": [
    "## Rebuild Type of loans Columns \n",
    "for i in df['Type_of_Loan'].value_counts().head(9).index[1:] : \n",
    "    df[i] = df['Type_of_Loan'].str.contains(i)\n",
    "\n",
    "del df['Type_of_Loan']"
   ]
  },
  {
   "cell_type": "markdown",
   "id": "8c8b1c6e",
   "metadata": {},
   "source": [
    "#### Num_Bank_Accounts"
   ]
  },
  {
   "cell_type": "code",
   "execution_count": 29,
   "id": "aae1b11f",
   "metadata": {
    "execution": {
     "iopub.execute_input": "2022-10-15T05:44:24.855388Z",
     "iopub.status.busy": "2022-10-15T05:44:24.854950Z",
     "iopub.status.idle": "2022-10-15T05:44:24.902558Z",
     "shell.execute_reply": "2022-10-15T05:44:24.901620Z",
     "shell.execute_reply.started": "2022-10-15T05:44:24.855357Z"
    }
   },
   "outputs": [],
   "source": [
    "df['Num_Bank_Accounts'] = df['Num_Bank_Accounts'].apply(lambda x :abs (x))"
   ]
  },
  {
   "cell_type": "markdown",
   "id": "93b698c4",
   "metadata": {},
   "source": [
    "#### Num_Credit_Card"
   ]
  },
  {
   "cell_type": "code",
   "execution_count": 30,
   "id": "62440e43",
   "metadata": {
    "execution": {
     "iopub.execute_input": "2022-10-15T05:44:24.903945Z",
     "iopub.status.busy": "2022-10-15T05:44:24.903699Z",
     "iopub.status.idle": "2022-10-15T05:44:24.908913Z",
     "shell.execute_reply": "2022-10-15T05:44:24.908075Z",
     "shell.execute_reply.started": "2022-10-15T05:44:24.903919Z"
    }
   },
   "outputs": [],
   "source": [
    "df['Num_Credit_Card'].replace(0,1,inplace=True)"
   ]
  },
  {
   "cell_type": "markdown",
   "id": "1bf00094",
   "metadata": {},
   "source": [
    "#### Credit_History_Age"
   ]
  },
  {
   "cell_type": "code",
   "execution_count": 31,
   "id": "c60448f0",
   "metadata": {
    "execution": {
     "iopub.execute_input": "2022-10-15T05:44:24.911032Z",
     "iopub.status.busy": "2022-10-15T05:44:24.910309Z",
     "iopub.status.idle": "2022-10-15T05:44:24.918563Z",
     "shell.execute_reply": "2022-10-15T05:44:24.918009Z",
     "shell.execute_reply.started": "2022-10-15T05:44:24.910993Z"
    }
   },
   "outputs": [],
   "source": [
    "def History_age(age):\n",
    "    try : \n",
    "        years = int(\"\".join(re.findall('[0-9]',''.join(age.split(\"and\")[0]))))\n",
    "        month = int(\"\".join(re.findall('[0-9]',''.join(age.split(\"and\")[1]))))\n",
    "        return years*12 + month\n",
    "    except :\n",
    "        return np.nan"
   ]
  },
  {
   "cell_type": "code",
   "execution_count": 32,
   "id": "37b7a093",
   "metadata": {
    "execution": {
     "iopub.execute_input": "2022-10-15T05:44:24.919956Z",
     "iopub.status.busy": "2022-10-15T05:44:24.919469Z",
     "iopub.status.idle": "2022-10-15T05:44:25.420592Z",
     "shell.execute_reply": "2022-10-15T05:44:25.419545Z",
     "shell.execute_reply.started": "2022-10-15T05:44:24.919927Z"
    }
   },
   "outputs": [],
   "source": [
    "df['Credit_History_Age'] = df['Credit_History_Age'].apply(History_age)"
   ]
  },
  {
   "cell_type": "markdown",
   "id": "6564a124",
   "metadata": {},
   "source": [
    "#### Payment_of_Min_Amount"
   ]
  },
  {
   "cell_type": "code",
   "execution_count": 33,
   "id": "ef7b6ccc",
   "metadata": {
    "execution": {
     "iopub.execute_input": "2022-10-15T05:44:25.422462Z",
     "iopub.status.busy": "2022-10-15T05:44:25.422097Z",
     "iopub.status.idle": "2022-10-15T05:44:25.432211Z",
     "shell.execute_reply": "2022-10-15T05:44:25.431164Z",
     "shell.execute_reply.started": "2022-10-15T05:44:25.422424Z"
    }
   },
   "outputs": [],
   "source": [
    "df['Payment_of_Min_Amount'].replace(\"NM\",\"No\",inplace=True)"
   ]
  },
  {
   "cell_type": "code",
   "execution_count": 34,
   "id": "c91c33c1",
   "metadata": {
    "execution": {
     "iopub.execute_input": "2022-10-15T05:44:25.434292Z",
     "iopub.status.busy": "2022-10-15T05:44:25.433752Z",
     "iopub.status.idle": "2022-10-15T05:44:25.453805Z",
     "shell.execute_reply": "2022-10-15T05:44:25.453091Z",
     "shell.execute_reply.started": "2022-10-15T05:44:25.434233Z"
    }
   },
   "outputs": [
    {
     "data": {
      "text/plain": [
       "Yes    52326\n",
       "No     47674\n",
       "Name: Payment_of_Min_Amount, dtype: int64"
      ]
     },
     "execution_count": 34,
     "metadata": {},
     "output_type": "execute_result"
    }
   ],
   "source": [
    "df['Payment_of_Min_Amount'].value_counts()"
   ]
  },
  {
   "cell_type": "markdown",
   "id": "cda3778f",
   "metadata": {},
   "source": [
    "#### Payment_Behaviour"
   ]
  },
  {
   "cell_type": "code",
   "execution_count": 35,
   "id": "ae59c2e2",
   "metadata": {
    "execution": {
     "iopub.execute_input": "2022-10-15T05:44:25.454937Z",
     "iopub.status.busy": "2022-10-15T05:44:25.454717Z",
     "iopub.status.idle": "2022-10-15T05:44:25.465205Z",
     "shell.execute_reply": "2022-10-15T05:44:25.464351Z",
     "shell.execute_reply.started": "2022-10-15T05:44:25.454912Z"
    }
   },
   "outputs": [],
   "source": [
    "df['Payment_Behaviour']= df['Payment_Behaviour'].replace(\"!@9#%8\",np.nan)"
   ]
  },
  {
   "cell_type": "code",
   "execution_count": 36,
   "id": "db6d0ca3",
   "metadata": {
    "execution": {
     "iopub.execute_input": "2022-10-15T05:44:25.466688Z",
     "iopub.status.busy": "2022-10-15T05:44:25.466453Z",
     "iopub.status.idle": "2022-10-15T05:44:25.480859Z",
     "shell.execute_reply": "2022-10-15T05:44:25.480043Z",
     "shell.execute_reply.started": "2022-10-15T05:44:25.466648Z"
    }
   },
   "outputs": [
    {
     "data": {
      "text/plain": [
       "Low_spent_Small_value_payments      25513\n",
       "High_spent_Medium_value_payments    17540\n",
       "Low_spent_Medium_value_payments     13861\n",
       "High_spent_Large_value_payments     13721\n",
       "High_spent_Small_value_payments     11340\n",
       "Low_spent_Large_value_payments      10425\n",
       "Name: Payment_Behaviour, dtype: int64"
      ]
     },
     "execution_count": 36,
     "metadata": {},
     "output_type": "execute_result"
    }
   ],
   "source": [
    "df['Payment_Behaviour'].value_counts()"
   ]
  },
  {
   "cell_type": "markdown",
   "id": "4654c2cf",
   "metadata": {},
   "source": [
    "### Occupation"
   ]
  },
  {
   "cell_type": "code",
   "execution_count": 37,
   "id": "540476ed",
   "metadata": {
    "execution": {
     "iopub.execute_input": "2022-10-15T05:44:25.482236Z",
     "iopub.status.busy": "2022-10-15T05:44:25.482021Z",
     "iopub.status.idle": "2022-10-15T05:44:25.494645Z",
     "shell.execute_reply": "2022-10-15T05:44:25.493705Z",
     "shell.execute_reply.started": "2022-10-15T05:44:25.482212Z"
    }
   },
   "outputs": [
    {
     "data": {
      "text/plain": [
       "_______          7062\n",
       "Lawyer           6575\n",
       "Architect        6355\n",
       "Engineer         6350\n",
       "Scientist        6299\n",
       "Mechanic         6291\n",
       "Accountant       6271\n",
       "Developer        6235\n",
       "Media_Manager    6232\n",
       "Teacher          6215\n",
       "Entrepreneur     6174\n",
       "Doctor           6087\n",
       "Journalist       6085\n",
       "Manager          5973\n",
       "Musician         5911\n",
       "Writer           5885\n",
       "Name: Occupation, dtype: int64"
      ]
     },
     "execution_count": 37,
     "metadata": {},
     "output_type": "execute_result"
    }
   ],
   "source": [
    "df['Occupation'].value_counts()"
   ]
  },
  {
   "cell_type": "code",
   "execution_count": 38,
   "id": "02b1a9e0",
   "metadata": {
    "execution": {
     "iopub.execute_input": "2022-10-15T05:44:25.496370Z",
     "iopub.status.busy": "2022-10-15T05:44:25.495622Z",
     "iopub.status.idle": "2022-10-15T05:44:25.509026Z",
     "shell.execute_reply": "2022-10-15T05:44:25.508030Z",
     "shell.execute_reply.started": "2022-10-15T05:44:25.496337Z"
    }
   },
   "outputs": [
    {
     "data": {
      "text/plain": [
       "Index(['Lawyer', 'Architect', 'Engineer', 'Scientist', 'Mechanic',\n",
       "       'Accountant', 'Developer', 'Media_Manager', 'Teacher', 'Entrepreneur',\n",
       "       'Doctor', 'Journalist', 'Manager', 'Musician', 'Writer'],\n",
       "      dtype='object')"
      ]
     },
     "execution_count": 38,
     "metadata": {},
     "output_type": "execute_result"
    }
   ],
   "source": [
    "occs = df['Occupation'].value_counts().index[1:]\n",
    "occs"
   ]
  },
  {
   "cell_type": "code",
   "execution_count": 39,
   "id": "85a34c48",
   "metadata": {
    "execution": {
     "iopub.execute_input": "2022-10-15T05:44:25.510060Z",
     "iopub.status.busy": "2022-10-15T05:44:25.509842Z",
     "iopub.status.idle": "2022-10-15T05:44:25.644059Z",
     "shell.execute_reply": "2022-10-15T05:44:25.643166Z",
     "shell.execute_reply.started": "2022-10-15T05:44:25.510035Z"
    }
   },
   "outputs": [
    {
     "data": {
      "text/html": [
       "<div>\n",
       "<style scoped>\n",
       "    .dataframe tbody tr th:only-of-type {\n",
       "        vertical-align: middle;\n",
       "    }\n",
       "\n",
       "    .dataframe tbody tr th {\n",
       "        vertical-align: top;\n",
       "    }\n",
       "\n",
       "    .dataframe thead th {\n",
       "        text-align: right;\n",
       "    }\n",
       "</style>\n",
       "<table border=\"1\" class=\"dataframe\">\n",
       "  <thead>\n",
       "    <tr style=\"text-align: right;\">\n",
       "      <th></th>\n",
       "      <th>Customer_ID</th>\n",
       "      <th>Month</th>\n",
       "      <th>Age</th>\n",
       "      <th>Occupation</th>\n",
       "      <th>Annual_Income</th>\n",
       "      <th>Monthly_Inhand_Salary</th>\n",
       "      <th>Num_Bank_Accounts</th>\n",
       "      <th>Num_Credit_Card</th>\n",
       "      <th>Interest_Rate</th>\n",
       "      <th>Num_of_Loan</th>\n",
       "      <th>...</th>\n",
       "      <th>Monthly_Balance</th>\n",
       "      <th>Credit_Score</th>\n",
       "      <th>Credit-Builder Loan</th>\n",
       "      <th>Personal Loan</th>\n",
       "      <th>Debt Consolidation Loan</th>\n",
       "      <th>Student Loan</th>\n",
       "      <th>Payday Loan</th>\n",
       "      <th>Mortgage Loan</th>\n",
       "      <th>Auto Loan</th>\n",
       "      <th>Home Equity Loan</th>\n",
       "    </tr>\n",
       "  </thead>\n",
       "  <tbody>\n",
       "    <tr>\n",
       "      <th>24</th>\n",
       "      <td>CUS_0xb891</td>\n",
       "      <td>January</td>\n",
       "      <td>54.0</td>\n",
       "      <td>Entrepreneur</td>\n",
       "      <td>30689.89</td>\n",
       "      <td>2612.490833</td>\n",
       "      <td>2</td>\n",
       "      <td>5</td>\n",
       "      <td>4</td>\n",
       "      <td>1.0</td>\n",
       "      <td>...</td>\n",
       "      <td>433.604773</td>\n",
       "      <td>Standard</td>\n",
       "      <td>False</td>\n",
       "      <td>False</td>\n",
       "      <td>False</td>\n",
       "      <td>False</td>\n",
       "      <td>False</td>\n",
       "      <td>False</td>\n",
       "      <td>False</td>\n",
       "      <td>False</td>\n",
       "    </tr>\n",
       "    <tr>\n",
       "      <th>25</th>\n",
       "      <td>CUS_0xb891</td>\n",
       "      <td>February</td>\n",
       "      <td>54.0</td>\n",
       "      <td>Entrepreneur</td>\n",
       "      <td>30689.89</td>\n",
       "      <td>2612.490833</td>\n",
       "      <td>2</td>\n",
       "      <td>5</td>\n",
       "      <td>4</td>\n",
       "      <td>1.0</td>\n",
       "      <td>...</td>\n",
       "      <td>409.951812</td>\n",
       "      <td>Standard</td>\n",
       "      <td>False</td>\n",
       "      <td>False</td>\n",
       "      <td>False</td>\n",
       "      <td>False</td>\n",
       "      <td>False</td>\n",
       "      <td>False</td>\n",
       "      <td>False</td>\n",
       "      <td>False</td>\n",
       "    </tr>\n",
       "    <tr>\n",
       "      <th>26</th>\n",
       "      <td>CUS_0xb891</td>\n",
       "      <td>March</td>\n",
       "      <td>55.0</td>\n",
       "      <td>Entrepreneur</td>\n",
       "      <td>30689.89</td>\n",
       "      <td>2612.490833</td>\n",
       "      <td>2</td>\n",
       "      <td>5</td>\n",
       "      <td>4</td>\n",
       "      <td>1.0</td>\n",
       "      <td>...</td>\n",
       "      <td>411.427123</td>\n",
       "      <td>Standard</td>\n",
       "      <td>False</td>\n",
       "      <td>False</td>\n",
       "      <td>False</td>\n",
       "      <td>False</td>\n",
       "      <td>False</td>\n",
       "      <td>False</td>\n",
       "      <td>False</td>\n",
       "      <td>False</td>\n",
       "    </tr>\n",
       "    <tr>\n",
       "      <th>27</th>\n",
       "      <td>CUS_0xb891</td>\n",
       "      <td>April</td>\n",
       "      <td>55.0</td>\n",
       "      <td>Entrepreneur</td>\n",
       "      <td>30689.89</td>\n",
       "      <td>2612.490833</td>\n",
       "      <td>2</td>\n",
       "      <td>5</td>\n",
       "      <td>4</td>\n",
       "      <td>1.0</td>\n",
       "      <td>...</td>\n",
       "      <td>262.499594</td>\n",
       "      <td>Standard</td>\n",
       "      <td>False</td>\n",
       "      <td>False</td>\n",
       "      <td>False</td>\n",
       "      <td>False</td>\n",
       "      <td>False</td>\n",
       "      <td>False</td>\n",
       "      <td>False</td>\n",
       "      <td>False</td>\n",
       "    </tr>\n",
       "    <tr>\n",
       "      <th>28</th>\n",
       "      <td>CUS_0xb891</td>\n",
       "      <td>May</td>\n",
       "      <td>55.0</td>\n",
       "      <td>Entrepreneur</td>\n",
       "      <td>30689.89</td>\n",
       "      <td>2612.490833</td>\n",
       "      <td>2</td>\n",
       "      <td>5</td>\n",
       "      <td>4</td>\n",
       "      <td>1.0</td>\n",
       "      <td>...</td>\n",
       "      <td>359.374916</td>\n",
       "      <td>Standard</td>\n",
       "      <td>False</td>\n",
       "      <td>False</td>\n",
       "      <td>False</td>\n",
       "      <td>False</td>\n",
       "      <td>False</td>\n",
       "      <td>False</td>\n",
       "      <td>False</td>\n",
       "      <td>False</td>\n",
       "    </tr>\n",
       "    <tr>\n",
       "      <th>29</th>\n",
       "      <td>CUS_0xb891</td>\n",
       "      <td>June</td>\n",
       "      <td>55.0</td>\n",
       "      <td>Entrepreneur</td>\n",
       "      <td>30689.89</td>\n",
       "      <td>2612.490833</td>\n",
       "      <td>2</td>\n",
       "      <td>5</td>\n",
       "      <td>4</td>\n",
       "      <td>1.0</td>\n",
       "      <td>...</td>\n",
       "      <td>419.880784</td>\n",
       "      <td>Standard</td>\n",
       "      <td>False</td>\n",
       "      <td>False</td>\n",
       "      <td>False</td>\n",
       "      <td>False</td>\n",
       "      <td>False</td>\n",
       "      <td>False</td>\n",
       "      <td>False</td>\n",
       "      <td>False</td>\n",
       "    </tr>\n",
       "    <tr>\n",
       "      <th>30</th>\n",
       "      <td>CUS_0xb891</td>\n",
       "      <td>July</td>\n",
       "      <td>55.0</td>\n",
       "      <td>Entrepreneur</td>\n",
       "      <td>30689.89</td>\n",
       "      <td>2612.490833</td>\n",
       "      <td>2</td>\n",
       "      <td>5</td>\n",
       "      <td>4</td>\n",
       "      <td>1.0</td>\n",
       "      <td>...</td>\n",
       "      <td>443.549957</td>\n",
       "      <td>Standard</td>\n",
       "      <td>False</td>\n",
       "      <td>False</td>\n",
       "      <td>False</td>\n",
       "      <td>False</td>\n",
       "      <td>False</td>\n",
       "      <td>False</td>\n",
       "      <td>False</td>\n",
       "      <td>False</td>\n",
       "    </tr>\n",
       "    <tr>\n",
       "      <th>31</th>\n",
       "      <td>CUS_0xb891</td>\n",
       "      <td>August</td>\n",
       "      <td>55.0</td>\n",
       "      <td>Entrepreneur</td>\n",
       "      <td>30689.89</td>\n",
       "      <td>2612.490833</td>\n",
       "      <td>2</td>\n",
       "      <td>5</td>\n",
       "      <td>4</td>\n",
       "      <td>-100.0</td>\n",
       "      <td>...</td>\n",
       "      <td>379.216381</td>\n",
       "      <td>Standard</td>\n",
       "      <td>False</td>\n",
       "      <td>False</td>\n",
       "      <td>False</td>\n",
       "      <td>False</td>\n",
       "      <td>False</td>\n",
       "      <td>False</td>\n",
       "      <td>False</td>\n",
       "      <td>False</td>\n",
       "    </tr>\n",
       "  </tbody>\n",
       "</table>\n",
       "<p>8 rows × 32 columns</p>\n",
       "</div>"
      ],
      "text/plain": [
       "   Customer_ID     Month   Age    Occupation  Annual_Income  \\\n",
       "24  CUS_0xb891   January  54.0  Entrepreneur       30689.89   \n",
       "25  CUS_0xb891  February  54.0  Entrepreneur       30689.89   \n",
       "26  CUS_0xb891     March  55.0  Entrepreneur       30689.89   \n",
       "27  CUS_0xb891     April  55.0  Entrepreneur       30689.89   \n",
       "28  CUS_0xb891       May  55.0  Entrepreneur       30689.89   \n",
       "29  CUS_0xb891      June  55.0  Entrepreneur       30689.89   \n",
       "30  CUS_0xb891      July  55.0  Entrepreneur       30689.89   \n",
       "31  CUS_0xb891    August  55.0  Entrepreneur       30689.89   \n",
       "\n",
       "    Monthly_Inhand_Salary  Num_Bank_Accounts  Num_Credit_Card  Interest_Rate  \\\n",
       "24            2612.490833                  2                5              4   \n",
       "25            2612.490833                  2                5              4   \n",
       "26            2612.490833                  2                5              4   \n",
       "27            2612.490833                  2                5              4   \n",
       "28            2612.490833                  2                5              4   \n",
       "29            2612.490833                  2                5              4   \n",
       "30            2612.490833                  2                5              4   \n",
       "31            2612.490833                  2                5              4   \n",
       "\n",
       "    Num_of_Loan  ...  Monthly_Balance  Credit_Score  Credit-Builder Loan  \\\n",
       "24          1.0  ...       433.604773      Standard                False   \n",
       "25          1.0  ...       409.951812      Standard                False   \n",
       "26          1.0  ...       411.427123      Standard                False   \n",
       "27          1.0  ...       262.499594      Standard                False   \n",
       "28          1.0  ...       359.374916      Standard                False   \n",
       "29          1.0  ...       419.880784      Standard                False   \n",
       "30          1.0  ...       443.549957      Standard                False   \n",
       "31       -100.0  ...       379.216381      Standard                False   \n",
       "\n",
       "    Personal Loan Debt Consolidation Loan  Student Loan  Payday Loan  \\\n",
       "24          False                   False         False        False   \n",
       "25          False                   False         False        False   \n",
       "26          False                   False         False        False   \n",
       "27          False                   False         False        False   \n",
       "28          False                   False         False        False   \n",
       "29          False                   False         False        False   \n",
       "30          False                   False         False        False   \n",
       "31          False                   False         False        False   \n",
       "\n",
       "    Mortgage Loan Auto Loan  Home Equity Loan  \n",
       "24          False     False             False  \n",
       "25          False     False             False  \n",
       "26          False     False             False  \n",
       "27          False     False             False  \n",
       "28          False     False             False  \n",
       "29          False     False             False  \n",
       "30          False     False             False  \n",
       "31          False     False             False  \n",
       "\n",
       "[8 rows x 32 columns]"
      ]
     },
     "execution_count": 39,
     "metadata": {},
     "output_type": "execute_result"
    }
   ],
   "source": [
    "id_ = \"CUS_0xb891\"\n",
    "oc = df[df['Customer_ID'] == id_]['Occupation'].mode()[0]\n",
    "df[df['Customer_ID'] == id_].replace(\"_______\",oc)"
   ]
  },
  {
   "cell_type": "code",
   "execution_count": 40,
   "id": "e20e7992",
   "metadata": {
    "execution": {
     "iopub.execute_input": "2022-10-15T05:44:25.645658Z",
     "iopub.status.busy": "2022-10-15T05:44:25.645349Z",
     "iopub.status.idle": "2022-10-15T05:52:07.326606Z",
     "shell.execute_reply": "2022-10-15T05:52:07.325903Z",
     "shell.execute_reply.started": "2022-10-15T05:44:25.645627Z"
    }
   },
   "outputs": [],
   "source": [
    "for ID in df[df['Occupation'] == \"_______\"]['Customer_ID'] : \n",
    "    oc = df[df['Customer_ID'] == ID]['Occupation'].mode()[0]\n",
    "    df[df['Customer_ID'] == ID] = df[df['Customer_ID'] == ID].replace(\"_______\",oc)"
   ]
  },
  {
   "cell_type": "code",
   "execution_count": 41,
   "id": "0d438dde",
   "metadata": {
    "execution": {
     "iopub.execute_input": "2022-10-15T05:52:07.328077Z",
     "iopub.status.busy": "2022-10-15T05:52:07.327725Z",
     "iopub.status.idle": "2022-10-15T05:52:07.340144Z",
     "shell.execute_reply": "2022-10-15T05:52:07.339250Z",
     "shell.execute_reply.started": "2022-10-15T05:52:07.328051Z"
    }
   },
   "outputs": [
    {
     "data": {
      "text/plain": [
       "Lawyer           7096\n",
       "Engineer         6864\n",
       "Architect        6824\n",
       "Mechanic         6776\n",
       "Scientist        6744\n",
       "Accountant       6744\n",
       "Developer        6720\n",
       "Media_Manager    6715\n",
       "Teacher          6672\n",
       "Entrepreneur     6648\n",
       "Doctor           6568\n",
       "Journalist       6536\n",
       "Manager          6432\n",
       "Musician         6352\n",
       "Writer           6304\n",
       "_______             5\n",
       "Name: Occupation, dtype: int64"
      ]
     },
     "execution_count": 41,
     "metadata": {},
     "output_type": "execute_result"
    }
   ],
   "source": [
    "df['Occupation'].value_counts()"
   ]
  },
  {
   "cell_type": "code",
   "execution_count": 42,
   "id": "c865a175",
   "metadata": {
    "execution": {
     "iopub.execute_input": "2022-10-15T05:52:07.341606Z",
     "iopub.status.busy": "2022-10-15T05:52:07.341366Z",
     "iopub.status.idle": "2022-10-15T05:52:07.360715Z",
     "shell.execute_reply": "2022-10-15T05:52:07.359539Z",
     "shell.execute_reply.started": "2022-10-15T05:52:07.341580Z"
    }
   },
   "outputs": [],
   "source": [
    "df['Occupation'] = df['Occupation'].replace(\"_______\",df['Occupation'].mode()[0])"
   ]
  },
  {
   "cell_type": "code",
   "execution_count": 43,
   "id": "38ad45ea",
   "metadata": {
    "execution": {
     "iopub.execute_input": "2022-10-15T05:52:07.362363Z",
     "iopub.status.busy": "2022-10-15T05:52:07.362008Z",
     "iopub.status.idle": "2022-10-15T05:52:07.377374Z",
     "shell.execute_reply": "2022-10-15T05:52:07.376574Z",
     "shell.execute_reply.started": "2022-10-15T05:52:07.362331Z"
    }
   },
   "outputs": [
    {
     "data": {
      "text/plain": [
       "Lawyer           7101\n",
       "Engineer         6864\n",
       "Architect        6824\n",
       "Mechanic         6776\n",
       "Scientist        6744\n",
       "Accountant       6744\n",
       "Developer        6720\n",
       "Media_Manager    6715\n",
       "Teacher          6672\n",
       "Entrepreneur     6648\n",
       "Doctor           6568\n",
       "Journalist       6536\n",
       "Manager          6432\n",
       "Musician         6352\n",
       "Writer           6304\n",
       "Name: Occupation, dtype: int64"
      ]
     },
     "execution_count": 43,
     "metadata": {},
     "output_type": "execute_result"
    }
   ],
   "source": [
    "df['Occupation'].value_counts()"
   ]
  },
  {
   "cell_type": "markdown",
   "id": "ff5c5201",
   "metadata": {},
   "source": [
    "#### Credit_Mix"
   ]
  },
  {
   "cell_type": "code",
   "execution_count": 44,
   "id": "59a969a7",
   "metadata": {
    "execution": {
     "iopub.execute_input": "2022-10-15T05:52:07.378783Z",
     "iopub.status.busy": "2022-10-15T05:52:07.378518Z",
     "iopub.status.idle": "2022-10-15T05:52:07.394011Z",
     "shell.execute_reply": "2022-10-15T05:52:07.393209Z",
     "shell.execute_reply.started": "2022-10-15T05:52:07.378732Z"
    }
   },
   "outputs": [
    {
     "data": {
      "text/plain": [
       "Standard    36479\n",
       "Good        24337\n",
       "_           20195\n",
       "Bad         18989\n",
       "Name: Credit_Mix, dtype: int64"
      ]
     },
     "execution_count": 44,
     "metadata": {},
     "output_type": "execute_result"
    }
   ],
   "source": [
    "df['Credit_Mix'].value_counts()"
   ]
  },
  {
   "cell_type": "code",
   "execution_count": 45,
   "id": "473c99e3",
   "metadata": {
    "execution": {
     "iopub.execute_input": "2022-10-15T05:52:07.395451Z",
     "iopub.status.busy": "2022-10-15T05:52:07.395187Z",
     "iopub.status.idle": "2022-10-15T05:52:07.399681Z",
     "shell.execute_reply": "2022-10-15T05:52:07.398881Z",
     "shell.execute_reply.started": "2022-10-15T05:52:07.395424Z"
    }
   },
   "outputs": [],
   "source": [
    "m = {\n",
    "    \"Bad\":0,\n",
    "    \"Standard\":1,\n",
    "    \"Good\":2,\n",
    "    \"_\":np.nan\n",
    "}"
   ]
  },
  {
   "cell_type": "code",
   "execution_count": 46,
   "id": "24efd73b",
   "metadata": {
    "execution": {
     "iopub.execute_input": "2022-10-15T05:52:07.401192Z",
     "iopub.status.busy": "2022-10-15T05:52:07.400964Z",
     "iopub.status.idle": "2022-10-15T05:52:07.449048Z",
     "shell.execute_reply": "2022-10-15T05:52:07.448135Z",
     "shell.execute_reply.started": "2022-10-15T05:52:07.401166Z"
    }
   },
   "outputs": [],
   "source": [
    "df['Credit_Mix'] = df['Credit_Mix'].map(m)"
   ]
  },
  {
   "cell_type": "markdown",
   "id": "8758c488",
   "metadata": {},
   "source": [
    "### Advanced Handling Missing Data "
   ]
  },
  {
   "cell_type": "code",
   "execution_count": 47,
   "id": "a21ad999",
   "metadata": {
    "execution": {
     "iopub.execute_input": "2022-10-15T05:52:07.450685Z",
     "iopub.status.busy": "2022-10-15T05:52:07.450439Z",
     "iopub.status.idle": "2022-10-15T05:52:07.544542Z",
     "shell.execute_reply": "2022-10-15T05:52:07.543380Z",
     "shell.execute_reply.started": "2022-10-15T05:52:07.450657Z"
    }
   },
   "outputs": [],
   "source": [
    "# Edit Columns from bool to int \n",
    "for col in list(df.columns[-8:]):\n",
    "    df[col] = df[col].astype(float)"
   ]
  },
  {
   "cell_type": "code",
   "execution_count": 48,
   "id": "f1ef35da",
   "metadata": {
    "execution": {
     "iopub.execute_input": "2022-10-15T05:52:07.545984Z",
     "iopub.status.busy": "2022-10-15T05:52:07.545736Z",
     "iopub.status.idle": "2022-10-15T05:55:05.522217Z",
     "shell.execute_reply": "2022-10-15T05:55:05.521048Z",
     "shell.execute_reply.started": "2022-10-15T05:52:07.545956Z"
    }
   },
   "outputs": [],
   "source": [
    "IDs = 1 \n",
    "for ID in df['Customer_ID'].unique() :\n",
    "    df['Customer_ID'] = df['Customer_ID'].replace(ID,IDs)\n",
    "    IDs += 1 "
   ]
  },
  {
   "cell_type": "code",
   "execution_count": 49,
   "id": "a4f58356",
   "metadata": {
    "execution": {
     "iopub.execute_input": "2022-10-15T05:55:05.523696Z",
     "iopub.status.busy": "2022-10-15T05:55:05.523460Z",
     "iopub.status.idle": "2022-10-15T05:55:05.528658Z",
     "shell.execute_reply": "2022-10-15T05:55:05.527393Z",
     "shell.execute_reply.started": "2022-10-15T05:55:05.523668Z"
    }
   },
   "outputs": [],
   "source": [
    "from sklearn.impute import KNNImputer\n",
    "imputer = KNNImputer(n_neighbors=1)"
   ]
  },
  {
   "cell_type": "code",
   "execution_count": 50,
   "id": "5db7e3f8",
   "metadata": {
    "execution": {
     "iopub.execute_input": "2022-10-15T05:55:05.530238Z",
     "iopub.status.busy": "2022-10-15T05:55:05.529612Z",
     "iopub.status.idle": "2022-10-15T05:55:05.570735Z",
     "shell.execute_reply": "2022-10-15T05:55:05.569834Z",
     "shell.execute_reply.started": "2022-10-15T05:55:05.530207Z"
    }
   },
   "outputs": [
    {
     "data": {
      "text/plain": [
       "Index(['Age', 'Annual_Income', 'Monthly_Inhand_Salary', 'Num_Bank_Accounts',\n",
       "       'Num_Credit_Card', 'Interest_Rate', 'Num_of_Loan',\n",
       "       'Delay_from_due_date', 'Num_of_Delayed_Payment', 'Changed_Credit_Limit',\n",
       "       'Num_Credit_Inquiries', 'Credit_Mix', 'Outstanding_Debt',\n",
       "       'Credit_Utilization_Ratio', 'Credit_History_Age', 'Total_EMI_per_month',\n",
       "       'Amount_invested_monthly', 'Monthly_Balance', 'Credit-Builder Loan',\n",
       "       'Personal Loan', 'Debt Consolidation Loan', 'Student Loan',\n",
       "       'Payday Loan', 'Mortgage Loan', 'Auto Loan', 'Home Equity Loan'],\n",
       "      dtype='object')"
      ]
     },
     "execution_count": 50,
     "metadata": {},
     "output_type": "execute_result"
    }
   ],
   "source": [
    "Numericals = df.select_dtypes(exclude='object').columns[1:]\n",
    "Numericals"
   ]
  },
  {
   "cell_type": "code",
   "execution_count": 51,
   "id": "bc5b6a59",
   "metadata": {
    "execution": {
     "iopub.execute_input": "2022-10-15T05:55:05.572257Z",
     "iopub.status.busy": "2022-10-15T05:55:05.571984Z",
     "iopub.status.idle": "2022-10-15T06:06:32.853513Z",
     "shell.execute_reply": "2022-10-15T06:06:32.851766Z",
     "shell.execute_reply.started": "2022-10-15T05:55:05.572226Z"
    }
   },
   "outputs": [],
   "source": [
    "for col in Numericals[1:]:\n",
    "    imputer.fit(df[['Customer_ID',col]])\n",
    "    df[['Customer_ID',col]] = imputer.transform(df[['Customer_ID',col]])"
   ]
  },
  {
   "cell_type": "code",
   "execution_count": 52,
   "id": "e1573c9c",
   "metadata": {
    "execution": {
     "iopub.execute_input": "2022-10-15T06:06:32.856661Z",
     "iopub.status.busy": "2022-10-15T06:06:32.856335Z",
     "iopub.status.idle": "2022-10-15T06:06:32.907957Z",
     "shell.execute_reply": "2022-10-15T06:06:32.907039Z",
     "shell.execute_reply.started": "2022-10-15T06:06:32.856621Z"
    }
   },
   "outputs": [
    {
     "name": "stdout",
     "output_type": "stream",
     "text": [
      "<class 'pandas.core.frame.DataFrame'>\n",
      "RangeIndex: 100000 entries, 0 to 99999\n",
      "Data columns (total 32 columns):\n",
      " #   Column                    Non-Null Count   Dtype  \n",
      "---  ------                    --------------   -----  \n",
      " 0   Customer_ID               100000 non-null  float64\n",
      " 1   Month                     100000 non-null  object \n",
      " 2   Age                       100000 non-null  float64\n",
      " 3   Occupation                100000 non-null  object \n",
      " 4   Annual_Income             100000 non-null  float64\n",
      " 5   Monthly_Inhand_Salary     100000 non-null  float64\n",
      " 6   Num_Bank_Accounts         100000 non-null  float64\n",
      " 7   Num_Credit_Card           100000 non-null  float64\n",
      " 8   Interest_Rate             100000 non-null  float64\n",
      " 9   Num_of_Loan               100000 non-null  float64\n",
      " 10  Delay_from_due_date       100000 non-null  float64\n",
      " 11  Num_of_Delayed_Payment    100000 non-null  float64\n",
      " 12  Changed_Credit_Limit      100000 non-null  float64\n",
      " 13  Num_Credit_Inquiries      100000 non-null  float64\n",
      " 14  Credit_Mix                100000 non-null  float64\n",
      " 15  Outstanding_Debt          100000 non-null  float64\n",
      " 16  Credit_Utilization_Ratio  100000 non-null  float64\n",
      " 17  Credit_History_Age        100000 non-null  float64\n",
      " 18  Payment_of_Min_Amount     100000 non-null  object \n",
      " 19  Total_EMI_per_month       100000 non-null  float64\n",
      " 20  Amount_invested_monthly   100000 non-null  float64\n",
      " 21  Payment_Behaviour         92400 non-null   object \n",
      " 22  Monthly_Balance           100000 non-null  float64\n",
      " 23  Credit_Score              100000 non-null  object \n",
      " 24  Credit-Builder Loan       100000 non-null  float64\n",
      " 25  Personal Loan             100000 non-null  float64\n",
      " 26  Debt Consolidation Loan   100000 non-null  float64\n",
      " 27  Student Loan              100000 non-null  float64\n",
      " 28  Payday Loan               100000 non-null  float64\n",
      " 29  Mortgage Loan             100000 non-null  float64\n",
      " 30  Auto Loan                 100000 non-null  float64\n",
      " 31  Home Equity Loan          100000 non-null  float64\n",
      "dtypes: float64(27), object(5)\n",
      "memory usage: 24.4+ MB\n"
     ]
    }
   ],
   "source": [
    "df.info()"
   ]
  },
  {
   "cell_type": "code",
   "execution_count": 53,
   "id": "f8393919",
   "metadata": {
    "execution": {
     "iopub.execute_input": "2022-10-15T06:06:32.910196Z",
     "iopub.status.busy": "2022-10-15T06:06:32.909849Z",
     "iopub.status.idle": "2022-10-15T06:06:42.385888Z",
     "shell.execute_reply": "2022-10-15T06:06:42.385065Z",
     "shell.execute_reply.started": "2022-10-15T06:06:32.910156Z"
    }
   },
   "outputs": [],
   "source": [
    "imputer = SimpleImputer(strategy=\"most_frequent\")\n",
    "imputer.fit(df[['Payment_Behaviour']])\n",
    "df[['Payment_Behaviour']] = imputer.transform(df[['Payment_Behaviour']])"
   ]
  },
  {
   "cell_type": "markdown",
   "id": "568ad75c",
   "metadata": {},
   "source": [
    "### Handling Outliers "
   ]
  },
  {
   "cell_type": "code",
   "execution_count": 54,
   "id": "b8ea76ec",
   "metadata": {
    "execution": {
     "iopub.execute_input": "2022-10-15T06:06:42.387297Z",
     "iopub.status.busy": "2022-10-15T06:06:42.387055Z",
     "iopub.status.idle": "2022-10-15T06:06:42.553141Z",
     "shell.execute_reply": "2022-10-15T06:06:42.552251Z",
     "shell.execute_reply.started": "2022-10-15T06:06:42.387256Z"
    }
   },
   "outputs": [],
   "source": [
    "## replace Outliers with median \n",
    "for col in Numericals :\n",
    "    outliers_indecies = detect_outliers(df,0,[col])\n",
    "    median = df[col].median()\n",
    "    df[col].iloc[outliers_indecies] = median"
   ]
  },
  {
   "cell_type": "markdown",
   "id": "a135e53a",
   "metadata": {},
   "source": [
    "# Data Preprocessing"
   ]
  },
  {
   "cell_type": "markdown",
   "id": "093eb9fc",
   "metadata": {},
   "source": [
    "### Handling Catogerical "
   ]
  },
  {
   "cell_type": "code",
   "execution_count": 55,
   "id": "3be45dec",
   "metadata": {
    "execution": {
     "iopub.execute_input": "2022-10-15T06:06:42.554747Z",
     "iopub.status.busy": "2022-10-15T06:06:42.554448Z",
     "iopub.status.idle": "2022-10-15T06:06:42.575294Z",
     "shell.execute_reply": "2022-10-15T06:06:42.574378Z",
     "shell.execute_reply.started": "2022-10-15T06:06:42.554711Z"
    }
   },
   "outputs": [
    {
     "data": {
      "text/html": [
       "<div>\n",
       "<style scoped>\n",
       "    .dataframe tbody tr th:only-of-type {\n",
       "        vertical-align: middle;\n",
       "    }\n",
       "\n",
       "    .dataframe tbody tr th {\n",
       "        vertical-align: top;\n",
       "    }\n",
       "\n",
       "    .dataframe thead th {\n",
       "        text-align: right;\n",
       "    }\n",
       "</style>\n",
       "<table border=\"1\" class=\"dataframe\">\n",
       "  <thead>\n",
       "    <tr style=\"text-align: right;\">\n",
       "      <th></th>\n",
       "      <th>Month</th>\n",
       "      <th>Occupation</th>\n",
       "      <th>Payment_of_Min_Amount</th>\n",
       "      <th>Payment_Behaviour</th>\n",
       "      <th>Credit_Score</th>\n",
       "    </tr>\n",
       "  </thead>\n",
       "  <tbody>\n",
       "    <tr>\n",
       "      <th>0</th>\n",
       "      <td>January</td>\n",
       "      <td>Scientist</td>\n",
       "      <td>No</td>\n",
       "      <td>High_spent_Small_value_payments</td>\n",
       "      <td>Good</td>\n",
       "    </tr>\n",
       "    <tr>\n",
       "      <th>1</th>\n",
       "      <td>February</td>\n",
       "      <td>Scientist</td>\n",
       "      <td>No</td>\n",
       "      <td>Low_spent_Large_value_payments</td>\n",
       "      <td>Good</td>\n",
       "    </tr>\n",
       "    <tr>\n",
       "      <th>2</th>\n",
       "      <td>March</td>\n",
       "      <td>Scientist</td>\n",
       "      <td>No</td>\n",
       "      <td>Low_spent_Medium_value_payments</td>\n",
       "      <td>Good</td>\n",
       "    </tr>\n",
       "    <tr>\n",
       "      <th>3</th>\n",
       "      <td>April</td>\n",
       "      <td>Scientist</td>\n",
       "      <td>No</td>\n",
       "      <td>Low_spent_Small_value_payments</td>\n",
       "      <td>Good</td>\n",
       "    </tr>\n",
       "    <tr>\n",
       "      <th>4</th>\n",
       "      <td>May</td>\n",
       "      <td>Scientist</td>\n",
       "      <td>No</td>\n",
       "      <td>High_spent_Medium_value_payments</td>\n",
       "      <td>Good</td>\n",
       "    </tr>\n",
       "    <tr>\n",
       "      <th>...</th>\n",
       "      <td>...</td>\n",
       "      <td>...</td>\n",
       "      <td>...</td>\n",
       "      <td>...</td>\n",
       "      <td>...</td>\n",
       "    </tr>\n",
       "    <tr>\n",
       "      <th>99995</th>\n",
       "      <td>April</td>\n",
       "      <td>Mechanic</td>\n",
       "      <td>No</td>\n",
       "      <td>High_spent_Large_value_payments</td>\n",
       "      <td>Poor</td>\n",
       "    </tr>\n",
       "    <tr>\n",
       "      <th>99996</th>\n",
       "      <td>May</td>\n",
       "      <td>Mechanic</td>\n",
       "      <td>No</td>\n",
       "      <td>High_spent_Medium_value_payments</td>\n",
       "      <td>Poor</td>\n",
       "    </tr>\n",
       "    <tr>\n",
       "      <th>99997</th>\n",
       "      <td>June</td>\n",
       "      <td>Mechanic</td>\n",
       "      <td>No</td>\n",
       "      <td>High_spent_Large_value_payments</td>\n",
       "      <td>Poor</td>\n",
       "    </tr>\n",
       "    <tr>\n",
       "      <th>99998</th>\n",
       "      <td>July</td>\n",
       "      <td>Mechanic</td>\n",
       "      <td>No</td>\n",
       "      <td>Low_spent_Large_value_payments</td>\n",
       "      <td>Standard</td>\n",
       "    </tr>\n",
       "    <tr>\n",
       "      <th>99999</th>\n",
       "      <td>August</td>\n",
       "      <td>Mechanic</td>\n",
       "      <td>No</td>\n",
       "      <td>Low_spent_Small_value_payments</td>\n",
       "      <td>Poor</td>\n",
       "    </tr>\n",
       "  </tbody>\n",
       "</table>\n",
       "<p>100000 rows × 5 columns</p>\n",
       "</div>"
      ],
      "text/plain": [
       "          Month Occupation Payment_of_Min_Amount  \\\n",
       "0       January  Scientist                    No   \n",
       "1      February  Scientist                    No   \n",
       "2         March  Scientist                    No   \n",
       "3         April  Scientist                    No   \n",
       "4           May  Scientist                    No   \n",
       "...         ...        ...                   ...   \n",
       "99995     April   Mechanic                    No   \n",
       "99996       May   Mechanic                    No   \n",
       "99997      June   Mechanic                    No   \n",
       "99998      July   Mechanic                    No   \n",
       "99999    August   Mechanic                    No   \n",
       "\n",
       "                      Payment_Behaviour Credit_Score  \n",
       "0       High_spent_Small_value_payments         Good  \n",
       "1        Low_spent_Large_value_payments         Good  \n",
       "2       Low_spent_Medium_value_payments         Good  \n",
       "3        Low_spent_Small_value_payments         Good  \n",
       "4      High_spent_Medium_value_payments         Good  \n",
       "...                                 ...          ...  \n",
       "99995   High_spent_Large_value_payments         Poor  \n",
       "99996  High_spent_Medium_value_payments         Poor  \n",
       "99997   High_spent_Large_value_payments         Poor  \n",
       "99998    Low_spent_Large_value_payments     Standard  \n",
       "99999    Low_spent_Small_value_payments         Poor  \n",
       "\n",
       "[100000 rows x 5 columns]"
      ]
     },
     "execution_count": 55,
     "metadata": {},
     "output_type": "execute_result"
    }
   ],
   "source": [
    "df.select_dtypes(include=\"object\")"
   ]
  },
  {
   "cell_type": "code",
   "execution_count": 56,
   "id": "fbaf3515",
   "metadata": {
    "execution": {
     "iopub.execute_input": "2022-10-15T06:06:42.576930Z",
     "iopub.status.busy": "2022-10-15T06:06:42.576699Z",
     "iopub.status.idle": "2022-10-15T06:06:42.593045Z",
     "shell.execute_reply": "2022-10-15T06:06:42.592447Z",
     "shell.execute_reply.started": "2022-10-15T06:06:42.576905Z"
    }
   },
   "outputs": [
    {
     "data": {
      "text/plain": [
       "Standard    53174\n",
       "Poor        28998\n",
       "Good        17828\n",
       "Name: Credit_Score, dtype: int64"
      ]
     },
     "execution_count": 56,
     "metadata": {},
     "output_type": "execute_result"
    }
   ],
   "source": [
    "df['Credit_Score'].value_counts()"
   ]
  },
  {
   "cell_type": "code",
   "execution_count": 57,
   "id": "28546422",
   "metadata": {
    "execution": {
     "iopub.execute_input": "2022-10-15T06:06:42.594520Z",
     "iopub.status.busy": "2022-10-15T06:06:42.593942Z",
     "iopub.status.idle": "2022-10-15T06:06:42.604133Z",
     "shell.execute_reply": "2022-10-15T06:06:42.603364Z",
     "shell.execute_reply.started": "2022-10-15T06:06:42.594486Z"
    }
   },
   "outputs": [],
   "source": [
    "m = {\n",
    "    \"Poor\":0,\n",
    "    \"Standard\":1,\n",
    "    \"Good\":2\n",
    "}"
   ]
  },
  {
   "cell_type": "code",
   "execution_count": 58,
   "id": "c19da223",
   "metadata": {
    "execution": {
     "iopub.execute_input": "2022-10-15T06:06:42.605662Z",
     "iopub.status.busy": "2022-10-15T06:06:42.605354Z",
     "iopub.status.idle": "2022-10-15T06:06:42.627655Z",
     "shell.execute_reply": "2022-10-15T06:06:42.626631Z",
     "shell.execute_reply.started": "2022-10-15T06:06:42.605635Z"
    }
   },
   "outputs": [],
   "source": [
    "df['Credit_Score'] = df['Credit_Score'].map(m)"
   ]
  },
  {
   "cell_type": "code",
   "execution_count": 59,
   "id": "ae417aac",
   "metadata": {
    "execution": {
     "iopub.execute_input": "2022-10-15T06:06:42.629698Z",
     "iopub.status.busy": "2022-10-15T06:06:42.629395Z",
     "iopub.status.idle": "2022-10-15T06:06:42.635545Z",
     "shell.execute_reply": "2022-10-15T06:06:42.634972Z",
     "shell.execute_reply.started": "2022-10-15T06:06:42.629660Z"
    }
   },
   "outputs": [],
   "source": [
    "del df['Customer_ID']"
   ]
  },
  {
   "cell_type": "code",
   "execution_count": 5,
   "id": "339d1e7d",
   "metadata": {
    "execution": {
     "iopub.execute_input": "2022-10-15T06:06:42.636944Z",
     "iopub.status.busy": "2022-10-15T06:06:42.636619Z",
     "iopub.status.idle": "2022-10-15T06:06:42.732126Z",
     "shell.execute_reply": "2022-10-15T06:06:42.731478Z",
     "shell.execute_reply.started": "2022-10-15T06:06:42.636918Z"
    }
   },
   "outputs": [
    {
     "ename": "KeyboardInterrupt",
     "evalue": "",
     "output_type": "error",
     "traceback": [
      "\u001b[0;31m---------------------------------------------------------------------------\u001b[0m",
      "\u001b[0;31mKeyboardInterrupt\u001b[0m                         Traceback (most recent call last)",
      "\u001b[0;32m/tmp/ipykernel_21061/1908360932.py\u001b[0m in \u001b[0;36m<cell line: 1>\u001b[0;34m()\u001b[0m\n\u001b[0;32m----> 1\u001b[0;31m \u001b[0mdf\u001b[0m \u001b[0;34m=\u001b[0m \u001b[0mpd\u001b[0m\u001b[0;34m.\u001b[0m\u001b[0mget_dummies\u001b[0m\u001b[0;34m(\u001b[0m\u001b[0mdf\u001b[0m\u001b[0;34m,\u001b[0m\u001b[0mdrop_first\u001b[0m\u001b[0;34m=\u001b[0m\u001b[0;32mTrue\u001b[0m\u001b[0;34m)\u001b[0m\u001b[0;34m\u001b[0m\u001b[0;34m\u001b[0m\u001b[0m\n\u001b[0m",
      "\u001b[0;32m~/environments/env1/lib/python3.8/site-packages/pandas/core/reshape/reshape.py\u001b[0m in \u001b[0;36mget_dummies\u001b[0;34m(data, prefix, prefix_sep, dummy_na, columns, sparse, drop_first, dtype)\u001b[0m\n\u001b[1;32m    975\u001b[0m         \u001b[0;32mfor\u001b[0m \u001b[0;34m(\u001b[0m\u001b[0mcol\u001b[0m\u001b[0;34m,\u001b[0m \u001b[0mpre\u001b[0m\u001b[0;34m,\u001b[0m \u001b[0msep\u001b[0m\u001b[0;34m)\u001b[0m \u001b[0;32min\u001b[0m \u001b[0mzip\u001b[0m\u001b[0;34m(\u001b[0m\u001b[0mdata_to_encode\u001b[0m\u001b[0;34m.\u001b[0m\u001b[0mitems\u001b[0m\u001b[0;34m(\u001b[0m\u001b[0;34m)\u001b[0m\u001b[0;34m,\u001b[0m \u001b[0mprefix\u001b[0m\u001b[0;34m,\u001b[0m \u001b[0mprefix_sep\u001b[0m\u001b[0;34m)\u001b[0m\u001b[0;34m:\u001b[0m\u001b[0;34m\u001b[0m\u001b[0;34m\u001b[0m\u001b[0m\n\u001b[1;32m    976\u001b[0m             \u001b[0;31m# col is (column_name, column), use just column data here\u001b[0m\u001b[0;34m\u001b[0m\u001b[0;34m\u001b[0m\u001b[0;34m\u001b[0m\u001b[0m\n\u001b[0;32m--> 977\u001b[0;31m             dummy = _get_dummies_1d(\n\u001b[0m\u001b[1;32m    978\u001b[0m                 \u001b[0mcol\u001b[0m\u001b[0;34m[\u001b[0m\u001b[0;36m1\u001b[0m\u001b[0;34m]\u001b[0m\u001b[0;34m,\u001b[0m\u001b[0;34m\u001b[0m\u001b[0;34m\u001b[0m\u001b[0m\n\u001b[1;32m    979\u001b[0m                 \u001b[0mprefix\u001b[0m\u001b[0;34m=\u001b[0m\u001b[0mpre\u001b[0m\u001b[0;34m,\u001b[0m\u001b[0;34m\u001b[0m\u001b[0;34m\u001b[0m\u001b[0m\n",
      "\u001b[0;32m~/environments/env1/lib/python3.8/site-packages/pandas/core/reshape/reshape.py\u001b[0m in \u001b[0;36m_get_dummies_1d\u001b[0;34m(data, prefix, prefix_sep, dummy_na, sparse, drop_first, dtype)\u001b[0m\n\u001b[1;32m   1094\u001b[0m     \u001b[0;32melse\u001b[0m\u001b[0;34m:\u001b[0m\u001b[0;34m\u001b[0m\u001b[0;34m\u001b[0m\u001b[0m\n\u001b[1;32m   1095\u001b[0m         \u001b[0;31m# take on axis=1 + transpose to ensure ndarray layout is column-major\u001b[0m\u001b[0;34m\u001b[0m\u001b[0;34m\u001b[0m\u001b[0;34m\u001b[0m\u001b[0m\n\u001b[0;32m-> 1096\u001b[0;31m         \u001b[0mdummy_mat\u001b[0m \u001b[0;34m=\u001b[0m \u001b[0mnp\u001b[0m\u001b[0;34m.\u001b[0m\u001b[0meye\u001b[0m\u001b[0;34m(\u001b[0m\u001b[0mnumber_of_cols\u001b[0m\u001b[0;34m,\u001b[0m \u001b[0mdtype\u001b[0m\u001b[0;34m=\u001b[0m\u001b[0mdtype\u001b[0m\u001b[0;34m)\u001b[0m\u001b[0;34m.\u001b[0m\u001b[0mtake\u001b[0m\u001b[0;34m(\u001b[0m\u001b[0mcodes\u001b[0m\u001b[0;34m,\u001b[0m \u001b[0maxis\u001b[0m\u001b[0;34m=\u001b[0m\u001b[0;36m1\u001b[0m\u001b[0;34m)\u001b[0m\u001b[0;34m.\u001b[0m\u001b[0mT\u001b[0m\u001b[0;34m\u001b[0m\u001b[0;34m\u001b[0m\u001b[0m\n\u001b[0m\u001b[1;32m   1097\u001b[0m \u001b[0;34m\u001b[0m\u001b[0m\n\u001b[1;32m   1098\u001b[0m         \u001b[0;32mif\u001b[0m \u001b[0;32mnot\u001b[0m \u001b[0mdummy_na\u001b[0m\u001b[0;34m:\u001b[0m\u001b[0;34m\u001b[0m\u001b[0;34m\u001b[0m\u001b[0m\n",
      "\u001b[0;31mKeyboardInterrupt\u001b[0m: "
     ]
    }
   ],
   "source": [
    "df = pd.get_dummies(df,drop_first=True)"
   ]
  },
  {
   "cell_type": "code",
   "execution_count": 61,
   "id": "738f365c",
   "metadata": {
    "execution": {
     "iopub.execute_input": "2022-10-15T06:06:42.733535Z",
     "iopub.status.busy": "2022-10-15T06:06:42.733261Z",
     "iopub.status.idle": "2022-10-15T06:06:42.759553Z",
     "shell.execute_reply": "2022-10-15T06:06:42.758447Z",
     "shell.execute_reply.started": "2022-10-15T06:06:42.733506Z"
    }
   },
   "outputs": [
    {
     "name": "stdout",
     "output_type": "stream",
     "text": [
      "<class 'pandas.core.frame.DataFrame'>\n",
      "RangeIndex: 100000 entries, 0 to 99999\n",
      "Data columns (total 54 columns):\n",
      " #   Column                                              Non-Null Count   Dtype  \n",
      "---  ------                                              --------------   -----  \n",
      " 0   Age                                                 100000 non-null  float64\n",
      " 1   Annual_Income                                       100000 non-null  float64\n",
      " 2   Monthly_Inhand_Salary                               100000 non-null  float64\n",
      " 3   Num_Bank_Accounts                                   100000 non-null  float64\n",
      " 4   Num_Credit_Card                                     100000 non-null  float64\n",
      " 5   Interest_Rate                                       100000 non-null  float64\n",
      " 6   Num_of_Loan                                         100000 non-null  float64\n",
      " 7   Delay_from_due_date                                 100000 non-null  float64\n",
      " 8   Num_of_Delayed_Payment                              100000 non-null  float64\n",
      " 9   Changed_Credit_Limit                                100000 non-null  float64\n",
      " 10  Num_Credit_Inquiries                                100000 non-null  float64\n",
      " 11  Credit_Mix                                          100000 non-null  float64\n",
      " 12  Outstanding_Debt                                    100000 non-null  float64\n",
      " 13  Credit_Utilization_Ratio                            100000 non-null  float64\n",
      " 14  Credit_History_Age                                  100000 non-null  float64\n",
      " 15  Total_EMI_per_month                                 100000 non-null  float64\n",
      " 16  Amount_invested_monthly                             100000 non-null  float64\n",
      " 17  Monthly_Balance                                     100000 non-null  float64\n",
      " 18  Credit_Score                                        100000 non-null  int64  \n",
      " 19  Credit-Builder Loan                                 100000 non-null  float64\n",
      " 20  Personal Loan                                       100000 non-null  float64\n",
      " 21  Debt Consolidation Loan                             100000 non-null  float64\n",
      " 22  Student Loan                                        100000 non-null  float64\n",
      " 23  Payday Loan                                         100000 non-null  float64\n",
      " 24  Mortgage Loan                                       100000 non-null  float64\n",
      " 25  Auto Loan                                           100000 non-null  float64\n",
      " 26  Home Equity Loan                                    100000 non-null  float64\n",
      " 27  Month_August                                        100000 non-null  uint8  \n",
      " 28  Month_February                                      100000 non-null  uint8  \n",
      " 29  Month_January                                       100000 non-null  uint8  \n",
      " 30  Month_July                                          100000 non-null  uint8  \n",
      " 31  Month_June                                          100000 non-null  uint8  \n",
      " 32  Month_March                                         100000 non-null  uint8  \n",
      " 33  Month_May                                           100000 non-null  uint8  \n",
      " 34  Occupation_Architect                                100000 non-null  uint8  \n",
      " 35  Occupation_Developer                                100000 non-null  uint8  \n",
      " 36  Occupation_Doctor                                   100000 non-null  uint8  \n",
      " 37  Occupation_Engineer                                 100000 non-null  uint8  \n",
      " 38  Occupation_Entrepreneur                             100000 non-null  uint8  \n",
      " 39  Occupation_Journalist                               100000 non-null  uint8  \n",
      " 40  Occupation_Lawyer                                   100000 non-null  uint8  \n",
      " 41  Occupation_Manager                                  100000 non-null  uint8  \n",
      " 42  Occupation_Mechanic                                 100000 non-null  uint8  \n",
      " 43  Occupation_Media_Manager                            100000 non-null  uint8  \n",
      " 44  Occupation_Musician                                 100000 non-null  uint8  \n",
      " 45  Occupation_Scientist                                100000 non-null  uint8  \n",
      " 46  Occupation_Teacher                                  100000 non-null  uint8  \n",
      " 47  Occupation_Writer                                   100000 non-null  uint8  \n",
      " 48  Payment_of_Min_Amount_Yes                           100000 non-null  uint8  \n",
      " 49  Payment_Behaviour_High_spent_Medium_value_payments  100000 non-null  uint8  \n",
      " 50  Payment_Behaviour_High_spent_Small_value_payments   100000 non-null  uint8  \n",
      " 51  Payment_Behaviour_Low_spent_Large_value_payments    100000 non-null  uint8  \n",
      " 52  Payment_Behaviour_Low_spent_Medium_value_payments   100000 non-null  uint8  \n",
      " 53  Payment_Behaviour_Low_spent_Small_value_payments    100000 non-null  uint8  \n",
      "dtypes: float64(26), int64(1), uint8(27)\n",
      "memory usage: 23.2 MB\n"
     ]
    }
   ],
   "source": [
    "df.info()"
   ]
  },
  {
   "cell_type": "code",
   "execution_count": 64,
   "id": "1981620d",
   "metadata": {
    "execution": {
     "iopub.execute_input": "2022-10-15T06:06:42.760886Z",
     "iopub.status.busy": "2022-10-15T06:06:42.760598Z",
     "iopub.status.idle": "2022-10-15T06:06:42.765867Z",
     "shell.execute_reply": "2022-10-15T06:06:42.764584Z",
     "shell.execute_reply.started": "2022-10-15T06:06:42.760857Z"
    }
   },
   "outputs": [],
   "source": [
    "df.to_csv(\"Preprocessed_Data.csv\")"
   ]
  },
  {
   "cell_type": "code",
   "execution_count": 65,
   "id": "8123329a",
   "metadata": {
    "execution": {
     "iopub.execute_input": "2022-10-15T06:16:34.889614Z",
     "iopub.status.busy": "2022-10-15T06:16:34.889268Z",
     "iopub.status.idle": "2022-10-15T06:16:35.861889Z",
     "shell.execute_reply": "2022-10-15T06:16:35.860869Z",
     "shell.execute_reply.started": "2022-10-15T06:16:34.889577Z"
    }
   },
   "outputs": [],
   "source": [
    "df = pd.read_csv(\"Preprocessed_Data.csv\",low_memory=False)"
   ]
  },
  {
   "cell_type": "markdown",
   "id": "6890886b",
   "metadata": {},
   "source": [
    "### Data Spliting \n",
    "- Try Resampling "
   ]
  },
  {
   "cell_type": "code",
   "execution_count": 66,
   "id": "02da376c",
   "metadata": {
    "execution": {
     "iopub.execute_input": "2022-10-15T06:16:35.864385Z",
     "iopub.status.busy": "2022-10-15T06:16:35.864013Z",
     "iopub.status.idle": "2022-10-15T06:16:35.895638Z",
     "shell.execute_reply": "2022-10-15T06:16:35.894938Z",
     "shell.execute_reply.started": "2022-10-15T06:16:35.864322Z"
    }
   },
   "outputs": [],
   "source": [
    "# define dataset\n",
    "X, y = df.drop(\"Credit_Score\",axis=1).values , df[\"Credit_Score\"] "
   ]
  },
  {
   "cell_type": "markdown",
   "id": "34b101b7",
   "metadata": {},
   "source": [
    "## Apply oversampling\n",
    "- Data is Not 100% balanced, Let's try improving it. "
   ]
  },
  {
   "cell_type": "code",
   "execution_count": 67,
   "id": "ae4a5cf9",
   "metadata": {
    "execution": {
     "iopub.execute_input": "2022-10-15T06:16:36.265984Z",
     "iopub.status.busy": "2022-10-15T06:16:36.265494Z",
     "iopub.status.idle": "2022-10-15T06:16:36.276152Z",
     "shell.execute_reply": "2022-10-15T06:16:36.275230Z",
     "shell.execute_reply.started": "2022-10-15T06:16:36.265943Z"
    }
   },
   "outputs": [
    {
     "data": {
      "text/plain": [
       "1    0.53174\n",
       "0    0.28998\n",
       "2    0.17828\n",
       "Name: Credit_Score, dtype: float64"
      ]
     },
     "execution_count": 67,
     "metadata": {},
     "output_type": "execute_result"
    }
   ],
   "source": [
    "y.value_counts(normalize=True)"
   ]
  },
  {
   "cell_type": "code",
   "execution_count": 68,
   "id": "43828a77",
   "metadata": {
    "execution": {
     "iopub.execute_input": "2022-10-15T06:17:37.592181Z",
     "iopub.status.busy": "2022-10-15T06:17:37.591881Z",
     "iopub.status.idle": "2022-10-15T06:17:39.492131Z",
     "shell.execute_reply": "2022-10-15T06:17:39.491026Z",
     "shell.execute_reply.started": "2022-10-15T06:17:37.592151Z"
    }
   },
   "outputs": [],
   "source": [
    "from imblearn.over_sampling import SMOTE\n",
    "rus = SMOTE(sampling_strategy='auto')\n",
    "X_data_rus, y_data_rus = rus.fit_resample(X, y)"
   ]
  },
  {
   "cell_type": "code",
   "execution_count": 69,
   "id": "df00fbd5",
   "metadata": {
    "execution": {
     "iopub.execute_input": "2022-10-15T06:17:40.977274Z",
     "iopub.status.busy": "2022-10-15T06:17:40.976951Z",
     "iopub.status.idle": "2022-10-15T06:17:40.987585Z",
     "shell.execute_reply": "2022-10-15T06:17:40.986776Z",
     "shell.execute_reply.started": "2022-10-15T06:17:40.977240Z"
    }
   },
   "outputs": [
    {
     "data": {
      "text/plain": [
       "2    0.333333\n",
       "1    0.333333\n",
       "0    0.333333\n",
       "Name: Credit_Score, dtype: float64"
      ]
     },
     "execution_count": 69,
     "metadata": {},
     "output_type": "execute_result"
    }
   ],
   "source": [
    "y_data_rus.value_counts(normalize=True)"
   ]
  },
  {
   "cell_type": "code",
   "execution_count": 70,
   "id": "f2da857b",
   "metadata": {
    "execution": {
     "iopub.execute_input": "2022-10-15T06:17:41.756350Z",
     "iopub.status.busy": "2022-10-15T06:17:41.756040Z",
     "iopub.status.idle": "2022-10-15T06:17:41.862651Z",
     "shell.execute_reply": "2022-10-15T06:17:41.861870Z",
     "shell.execute_reply.started": "2022-10-15T06:17:41.756315Z"
    }
   },
   "outputs": [],
   "source": [
    "# split into train and test sets\n",
    "X_train, X_test, y_train, y_test = train_test_split(X_data_rus, y_data_rus, test_size=0.3, random_state=42,stratify=y_data_rus)"
   ]
  },
  {
   "cell_type": "markdown",
   "id": "9bd6f559",
   "metadata": {},
   "source": [
    "### Handling Numerical \n",
    "- Using Power transformer to avoid Data Skewness"
   ]
  },
  {
   "cell_type": "code",
   "execution_count": 71,
   "id": "251c9791",
   "metadata": {
    "execution": {
     "iopub.execute_input": "2022-10-15T06:17:42.391241Z",
     "iopub.status.busy": "2022-10-15T06:17:42.390904Z",
     "iopub.status.idle": "2022-10-15T06:17:51.935726Z",
     "shell.execute_reply": "2022-10-15T06:17:51.934717Z",
     "shell.execute_reply.started": "2022-10-15T06:17:42.391202Z"
    }
   },
   "outputs": [],
   "source": [
    "scalar = PowerTransformer(method='yeo-johnson', standardize=True).fit(X_train)"
   ]
  },
  {
   "cell_type": "code",
   "execution_count": 72,
   "id": "9cc52d5c",
   "metadata": {
    "execution": {
     "iopub.execute_input": "2022-10-15T06:17:51.939155Z",
     "iopub.status.busy": "2022-10-15T06:17:51.937794Z",
     "iopub.status.idle": "2022-10-15T06:17:52.881831Z",
     "shell.execute_reply": "2022-10-15T06:17:52.880707Z",
     "shell.execute_reply.started": "2022-10-15T06:17:51.939106Z"
    }
   },
   "outputs": [],
   "source": [
    "X_train = scalar.transform(X_train)\n",
    "X_test = scalar.transform(X_test)"
   ]
  },
  {
   "cell_type": "markdown",
   "id": "0f4007d6",
   "metadata": {},
   "source": [
    "# Modeling and Evaluation\n"
   ]
  },
  {
   "cell_type": "markdown",
   "id": "27b1f467",
   "metadata": {},
   "source": [
    "#### Model Building"
   ]
  },
  {
   "cell_type": "code",
   "execution_count": 73,
   "id": "cd4d519c",
   "metadata": {
    "execution": {
     "iopub.execute_input": "2022-10-15T06:19:01.758655Z",
     "iopub.status.busy": "2022-10-15T06:19:01.758344Z",
     "iopub.status.idle": "2022-10-15T06:19:01.764831Z",
     "shell.execute_reply": "2022-10-15T06:19:01.764077Z",
     "shell.execute_reply.started": "2022-10-15T06:19:01.758619Z"
    }
   },
   "outputs": [],
   "source": [
    "bagging = BaggingClassifier(n_jobs=-1)\n",
    "extraTrees = ExtraTreesClassifier(max_depth=10, n_jobs=-1)\n",
    "randomForest = RandomForestClassifier(n_jobs=-1)\n",
    "histGradientBoosting = HistGradientBoostingClassifier()\n",
    "XGB = XGBClassifier(n_jobs=-1)\n",
    "\n",
    "model = StackingClassifier([\n",
    "    ('bagging', bagging),\n",
    "    ('extraTress', extraTrees),\n",
    "    ('randomforest', randomForest),\n",
    "    ('histGradientBoosting', histGradientBoosting),\n",
    "    ('XGB', XGB)\n",
    "], n_jobs=-1)"
   ]
  },
  {
   "cell_type": "markdown",
   "id": "5391e473",
   "metadata": {},
   "source": [
    "#### Model fitting"
   ]
  },
  {
   "cell_type": "code",
   "execution_count": 74,
   "id": "50fd28a0",
   "metadata": {
    "execution": {
     "iopub.execute_input": "2022-10-15T06:19:03.060632Z",
     "iopub.status.busy": "2022-10-15T06:19:03.059511Z",
     "iopub.status.idle": "2022-10-15T06:30:41.257350Z",
     "shell.execute_reply": "2022-10-15T06:30:41.255989Z",
     "shell.execute_reply.started": "2022-10-15T06:19:03.060580Z"
    }
   },
   "outputs": [
    {
     "data": {
      "text/html": [
       "<style>#sk-container-id-1 {color: black;background-color: white;}#sk-container-id-1 pre{padding: 0;}#sk-container-id-1 div.sk-toggleable {background-color: white;}#sk-container-id-1 label.sk-toggleable__label {cursor: pointer;display: block;width: 100%;margin-bottom: 0;padding: 0.3em;box-sizing: border-box;text-align: center;}#sk-container-id-1 label.sk-toggleable__label-arrow:before {content: \"▸\";float: left;margin-right: 0.25em;color: #696969;}#sk-container-id-1 label.sk-toggleable__label-arrow:hover:before {color: black;}#sk-container-id-1 div.sk-estimator:hover label.sk-toggleable__label-arrow:before {color: black;}#sk-container-id-1 div.sk-toggleable__content {max-height: 0;max-width: 0;overflow: hidden;text-align: left;background-color: #f0f8ff;}#sk-container-id-1 div.sk-toggleable__content pre {margin: 0.2em;color: black;border-radius: 0.25em;background-color: #f0f8ff;}#sk-container-id-1 input.sk-toggleable__control:checked~div.sk-toggleable__content {max-height: 200px;max-width: 100%;overflow: auto;}#sk-container-id-1 input.sk-toggleable__control:checked~label.sk-toggleable__label-arrow:before {content: \"▾\";}#sk-container-id-1 div.sk-estimator input.sk-toggleable__control:checked~label.sk-toggleable__label {background-color: #d4ebff;}#sk-container-id-1 div.sk-label input.sk-toggleable__control:checked~label.sk-toggleable__label {background-color: #d4ebff;}#sk-container-id-1 input.sk-hidden--visually {border: 0;clip: rect(1px 1px 1px 1px);clip: rect(1px, 1px, 1px, 1px);height: 1px;margin: -1px;overflow: hidden;padding: 0;position: absolute;width: 1px;}#sk-container-id-1 div.sk-estimator {font-family: monospace;background-color: #f0f8ff;border: 1px dotted black;border-radius: 0.25em;box-sizing: border-box;margin-bottom: 0.5em;}#sk-container-id-1 div.sk-estimator:hover {background-color: #d4ebff;}#sk-container-id-1 div.sk-parallel-item::after {content: \"\";width: 100%;border-bottom: 1px solid gray;flex-grow: 1;}#sk-container-id-1 div.sk-label:hover label.sk-toggleable__label {background-color: #d4ebff;}#sk-container-id-1 div.sk-serial::before {content: \"\";position: absolute;border-left: 1px solid gray;box-sizing: border-box;top: 0;bottom: 0;left: 50%;z-index: 0;}#sk-container-id-1 div.sk-serial {display: flex;flex-direction: column;align-items: center;background-color: white;padding-right: 0.2em;padding-left: 0.2em;position: relative;}#sk-container-id-1 div.sk-item {position: relative;z-index: 1;}#sk-container-id-1 div.sk-parallel {display: flex;align-items: stretch;justify-content: center;background-color: white;position: relative;}#sk-container-id-1 div.sk-item::before, #sk-container-id-1 div.sk-parallel-item::before {content: \"\";position: absolute;border-left: 1px solid gray;box-sizing: border-box;top: 0;bottom: 0;left: 50%;z-index: -1;}#sk-container-id-1 div.sk-parallel-item {display: flex;flex-direction: column;z-index: 1;position: relative;background-color: white;}#sk-container-id-1 div.sk-parallel-item:first-child::after {align-self: flex-end;width: 50%;}#sk-container-id-1 div.sk-parallel-item:last-child::after {align-self: flex-start;width: 50%;}#sk-container-id-1 div.sk-parallel-item:only-child::after {width: 0;}#sk-container-id-1 div.sk-dashed-wrapped {border: 1px dashed gray;margin: 0 0.4em 0.5em 0.4em;box-sizing: border-box;padding-bottom: 0.4em;background-color: white;}#sk-container-id-1 div.sk-label label {font-family: monospace;font-weight: bold;display: inline-block;line-height: 1.2em;}#sk-container-id-1 div.sk-label-container {text-align: center;}#sk-container-id-1 div.sk-container {/* jupyter's `normalize.less` sets `[hidden] { display: none; }` but bootstrap.min.css set `[hidden] { display: none !important; }` so we also need the `!important` here to be able to override the default hidden behavior on the sphinx rendered scikit-learn.org. See: https://github.com/scikit-learn/scikit-learn/issues/21755 */display: inline-block !important;position: relative;}#sk-container-id-1 div.sk-text-repr-fallback {display: none;}</style><div id=\"sk-container-id-1\" class=\"sk-top-container\"><div class=\"sk-text-repr-fallback\"><pre>StackingClassifier(estimators=[(&#x27;bagging&#x27;, BaggingClassifier(n_jobs=-1)),\n",
       "                               (&#x27;extraTress&#x27;,\n",
       "                                ExtraTreesClassifier(max_depth=10, n_jobs=-1)),\n",
       "                               (&#x27;randomforest&#x27;,\n",
       "                                RandomForestClassifier(n_jobs=-1)),\n",
       "                               (&#x27;histGradientBoosting&#x27;,\n",
       "                                HistGradientBoostingClassifier()),\n",
       "                               (&#x27;XGB&#x27;,\n",
       "                                XGBClassifier(base_score=None, booster=None,\n",
       "                                              callbacks=None,\n",
       "                                              colsample_bylevel=None,\n",
       "                                              colsample_bynode=None...\n",
       "                                              gpu_id=None, grow_policy=None,\n",
       "                                              importance_type=None,\n",
       "                                              interaction_constraints=None,\n",
       "                                              learning_rate=None, max_bin=None,\n",
       "                                              max_cat_to_onehot=None,\n",
       "                                              max_delta_step=None,\n",
       "                                              max_depth=None, max_leaves=None,\n",
       "                                              min_child_weight=None,\n",
       "                                              missing=nan,\n",
       "                                              monotone_constraints=None,\n",
       "                                              n_estimators=100, n_jobs=-1,\n",
       "                                              num_parallel_tree=None,\n",
       "                                              predictor=None, random_state=None,\n",
       "                                              reg_alpha=None, reg_lambda=None, ...))],\n",
       "                   n_jobs=-1)</pre><b>In a Jupyter environment, please rerun this cell to show the HTML representation or trust the notebook. <br />On GitHub, the HTML representation is unable to render, please try loading this page with nbviewer.org.</b></div><div class=\"sk-container\" hidden><div class=\"sk-item sk-dashed-wrapped\"><div class=\"sk-label-container\"><div class=\"sk-label sk-toggleable\"><input class=\"sk-toggleable__control sk-hidden--visually\" id=\"sk-estimator-id-1\" type=\"checkbox\" ><label for=\"sk-estimator-id-1\" class=\"sk-toggleable__label sk-toggleable__label-arrow\">StackingClassifier</label><div class=\"sk-toggleable__content\"><pre>StackingClassifier(estimators=[(&#x27;bagging&#x27;, BaggingClassifier(n_jobs=-1)),\n",
       "                               (&#x27;extraTress&#x27;,\n",
       "                                ExtraTreesClassifier(max_depth=10, n_jobs=-1)),\n",
       "                               (&#x27;randomforest&#x27;,\n",
       "                                RandomForestClassifier(n_jobs=-1)),\n",
       "                               (&#x27;histGradientBoosting&#x27;,\n",
       "                                HistGradientBoostingClassifier()),\n",
       "                               (&#x27;XGB&#x27;,\n",
       "                                XGBClassifier(base_score=None, booster=None,\n",
       "                                              callbacks=None,\n",
       "                                              colsample_bylevel=None,\n",
       "                                              colsample_bynode=None...\n",
       "                                              gpu_id=None, grow_policy=None,\n",
       "                                              importance_type=None,\n",
       "                                              interaction_constraints=None,\n",
       "                                              learning_rate=None, max_bin=None,\n",
       "                                              max_cat_to_onehot=None,\n",
       "                                              max_delta_step=None,\n",
       "                                              max_depth=None, max_leaves=None,\n",
       "                                              min_child_weight=None,\n",
       "                                              missing=nan,\n",
       "                                              monotone_constraints=None,\n",
       "                                              n_estimators=100, n_jobs=-1,\n",
       "                                              num_parallel_tree=None,\n",
       "                                              predictor=None, random_state=None,\n",
       "                                              reg_alpha=None, reg_lambda=None, ...))],\n",
       "                   n_jobs=-1)</pre></div></div></div><div class=\"sk-serial\"><div class=\"sk-item\"><div class=\"sk-parallel\"><div class=\"sk-parallel-item\"><div class=\"sk-item\"><div class=\"sk-label-container\"><div class=\"sk-label sk-toggleable\"><label>bagging</label></div></div><div class=\"sk-serial\"><div class=\"sk-item\"><div class=\"sk-estimator sk-toggleable\"><input class=\"sk-toggleable__control sk-hidden--visually\" id=\"sk-estimator-id-2\" type=\"checkbox\" ><label for=\"sk-estimator-id-2\" class=\"sk-toggleable__label sk-toggleable__label-arrow\">BaggingClassifier</label><div class=\"sk-toggleable__content\"><pre>BaggingClassifier(n_jobs=-1)</pre></div></div></div></div></div></div><div class=\"sk-parallel-item\"><div class=\"sk-item\"><div class=\"sk-label-container\"><div class=\"sk-label sk-toggleable\"><label>extraTress</label></div></div><div class=\"sk-serial\"><div class=\"sk-item\"><div class=\"sk-estimator sk-toggleable\"><input class=\"sk-toggleable__control sk-hidden--visually\" id=\"sk-estimator-id-3\" type=\"checkbox\" ><label for=\"sk-estimator-id-3\" class=\"sk-toggleable__label sk-toggleable__label-arrow\">ExtraTreesClassifier</label><div class=\"sk-toggleable__content\"><pre>ExtraTreesClassifier(max_depth=10, n_jobs=-1)</pre></div></div></div></div></div></div><div class=\"sk-parallel-item\"><div class=\"sk-item\"><div class=\"sk-label-container\"><div class=\"sk-label sk-toggleable\"><label>randomforest</label></div></div><div class=\"sk-serial\"><div class=\"sk-item\"><div class=\"sk-estimator sk-toggleable\"><input class=\"sk-toggleable__control sk-hidden--visually\" id=\"sk-estimator-id-4\" type=\"checkbox\" ><label for=\"sk-estimator-id-4\" class=\"sk-toggleable__label sk-toggleable__label-arrow\">RandomForestClassifier</label><div class=\"sk-toggleable__content\"><pre>RandomForestClassifier(n_jobs=-1)</pre></div></div></div></div></div></div><div class=\"sk-parallel-item\"><div class=\"sk-item\"><div class=\"sk-label-container\"><div class=\"sk-label sk-toggleable\"><label>histGradientBoosting</label></div></div><div class=\"sk-serial\"><div class=\"sk-item\"><div class=\"sk-estimator sk-toggleable\"><input class=\"sk-toggleable__control sk-hidden--visually\" id=\"sk-estimator-id-5\" type=\"checkbox\" ><label for=\"sk-estimator-id-5\" class=\"sk-toggleable__label sk-toggleable__label-arrow\">HistGradientBoostingClassifier</label><div class=\"sk-toggleable__content\"><pre>HistGradientBoostingClassifier()</pre></div></div></div></div></div></div><div class=\"sk-parallel-item\"><div class=\"sk-item\"><div class=\"sk-label-container\"><div class=\"sk-label sk-toggleable\"><label>XGB</label></div></div><div class=\"sk-serial\"><div class=\"sk-item\"><div class=\"sk-estimator sk-toggleable\"><input class=\"sk-toggleable__control sk-hidden--visually\" id=\"sk-estimator-id-6\" type=\"checkbox\" ><label for=\"sk-estimator-id-6\" class=\"sk-toggleable__label sk-toggleable__label-arrow\">XGBClassifier</label><div class=\"sk-toggleable__content\"><pre>XGBClassifier(base_score=None, booster=None, callbacks=None,\n",
       "              colsample_bylevel=None, colsample_bynode=None,\n",
       "              colsample_bytree=None, early_stopping_rounds=None,\n",
       "              enable_categorical=False, eval_metric=None, gamma=None,\n",
       "              gpu_id=None, grow_policy=None, importance_type=None,\n",
       "              interaction_constraints=None, learning_rate=None, max_bin=None,\n",
       "              max_cat_to_onehot=None, max_delta_step=None, max_depth=None,\n",
       "              max_leaves=None, min_child_weight=None, missing=nan,\n",
       "              monotone_constraints=None, n_estimators=100, n_jobs=-1,\n",
       "              num_parallel_tree=None, predictor=None, random_state=None,\n",
       "              reg_alpha=None, reg_lambda=None, ...)</pre></div></div></div></div></div></div></div></div><div class=\"sk-item\"><div class=\"sk-parallel\"><div class=\"sk-parallel-item\"><div class=\"sk-item\"><div class=\"sk-label-container\"><div class=\"sk-label sk-toggleable\"><label>final_estimator</label></div></div><div class=\"sk-serial\"><div class=\"sk-item\"><div class=\"sk-estimator sk-toggleable\"><input class=\"sk-toggleable__control sk-hidden--visually\" id=\"sk-estimator-id-7\" type=\"checkbox\" ><label for=\"sk-estimator-id-7\" class=\"sk-toggleable__label sk-toggleable__label-arrow\">LogisticRegression</label><div class=\"sk-toggleable__content\"><pre>LogisticRegression()</pre></div></div></div></div></div></div></div></div></div></div></div></div>"
      ],
      "text/plain": [
       "StackingClassifier(estimators=[('bagging', BaggingClassifier(n_jobs=-1)),\n",
       "                               ('extraTress',\n",
       "                                ExtraTreesClassifier(max_depth=10, n_jobs=-1)),\n",
       "                               ('randomforest',\n",
       "                                RandomForestClassifier(n_jobs=-1)),\n",
       "                               ('histGradientBoosting',\n",
       "                                HistGradientBoostingClassifier()),\n",
       "                               ('XGB',\n",
       "                                XGBClassifier(base_score=None, booster=None,\n",
       "                                              callbacks=None,\n",
       "                                              colsample_bylevel=None,\n",
       "                                              colsample_bynode=None...\n",
       "                                              gpu_id=None, grow_policy=None,\n",
       "                                              importance_type=None,\n",
       "                                              interaction_constraints=None,\n",
       "                                              learning_rate=None, max_bin=None,\n",
       "                                              max_cat_to_onehot=None,\n",
       "                                              max_delta_step=None,\n",
       "                                              max_depth=None, max_leaves=None,\n",
       "                                              min_child_weight=None,\n",
       "                                              missing=nan,\n",
       "                                              monotone_constraints=None,\n",
       "                                              n_estimators=100, n_jobs=-1,\n",
       "                                              num_parallel_tree=None,\n",
       "                                              predictor=None, random_state=None,\n",
       "                                              reg_alpha=None, reg_lambda=None, ...))],\n",
       "                   n_jobs=-1)"
      ]
     },
     "execution_count": 74,
     "metadata": {},
     "output_type": "execute_result"
    }
   ],
   "source": [
    "model.fit(X_train, y_train)"
   ]
  },
  {
   "cell_type": "markdown",
   "id": "67bf8485",
   "metadata": {},
   "source": [
    "#### model evaluation"
   ]
  },
  {
   "cell_type": "code",
   "execution_count": 75,
   "id": "f613619c",
   "metadata": {
    "execution": {
     "iopub.execute_input": "2022-10-15T06:30:41.270189Z",
     "iopub.status.busy": "2022-10-15T06:30:41.266021Z",
     "iopub.status.idle": "2022-10-15T06:30:47.726003Z",
     "shell.execute_reply": "2022-10-15T06:30:47.724857Z",
     "shell.execute_reply.started": "2022-10-15T06:30:41.270080Z"
    }
   },
   "outputs": [
    {
     "name": "stdout",
     "output_type": "stream",
     "text": [
      "Train Score:  0.999104464245735\n"
     ]
    }
   ],
   "source": [
    "print(\"Train Score: \",model.score(X_train, y_train))"
   ]
  },
  {
   "cell_type": "code",
   "execution_count": 76,
   "id": "5fba6d42",
   "metadata": {
    "execution": {
     "iopub.execute_input": "2022-10-15T06:30:47.728937Z",
     "iopub.status.busy": "2022-10-15T06:30:47.728252Z",
     "iopub.status.idle": "2022-10-15T06:30:50.301546Z",
     "shell.execute_reply": "2022-10-15T06:30:50.300593Z",
     "shell.execute_reply.started": "2022-10-15T06:30:47.728886Z"
    }
   },
   "outputs": [
    {
     "name": "stdout",
     "output_type": "stream",
     "text": [
      "Test Score:  0.8543577742023111\n"
     ]
    }
   ],
   "source": [
    "print(\"Test Score: \",model.score(X_test, y_test))"
   ]
  },
  {
   "cell_type": "code",
   "execution_count": 77,
   "id": "844cf4b5",
   "metadata": {
    "execution": {
     "iopub.execute_input": "2022-10-15T06:30:50.304905Z",
     "iopub.status.busy": "2022-10-15T06:30:50.304309Z",
     "iopub.status.idle": "2022-10-15T06:30:53.115109Z",
     "shell.execute_reply": "2022-10-15T06:30:53.113972Z",
     "shell.execute_reply.started": "2022-10-15T06:30:50.304862Z"
    }
   },
   "outputs": [],
   "source": [
    "y_pred = model.predict(X_test)"
   ]
  },
  {
   "cell_type": "code",
   "execution_count": 78,
   "id": "df476b17",
   "metadata": {
    "execution": {
     "iopub.execute_input": "2022-10-15T06:30:53.126214Z",
     "iopub.status.busy": "2022-10-15T06:30:53.125529Z",
     "iopub.status.idle": "2022-10-15T06:30:53.289719Z",
     "shell.execute_reply": "2022-10-15T06:30:53.288894Z",
     "shell.execute_reply.started": "2022-10-15T06:30:53.126170Z"
    }
   },
   "outputs": [
    {
     "name": "stdout",
     "output_type": "stream",
     "text": [
      "              precision    recall  f1-score   support\n",
      "\n",
      "           0       0.85      0.87      0.86     15530\n",
      "           1       0.81      0.80      0.80     16249\n",
      "           2       0.90      0.89      0.90     16078\n",
      "\n",
      "    accuracy                           0.85     47857\n",
      "   macro avg       0.85      0.85      0.85     47857\n",
      "weighted avg       0.85      0.85      0.85     47857\n",
      "\n"
     ]
    }
   ],
   "source": [
    "print(classification_report(y_pred,y_test))"
   ]
  }
 ],
 "metadata": {
  "kernelspec": {
   "display_name": "Python 3 (ipykernel)",
   "language": "python",
   "name": "python3"
  },
  "language_info": {
   "codemirror_mode": {
    "name": "ipython",
    "version": 3
   },
   "file_extension": ".py",
   "mimetype": "text/x-python",
   "name": "python",
   "nbconvert_exporter": "python",
   "pygments_lexer": "ipython3",
   "version": "3.8.10"
  }
 },
 "nbformat": 4,
 "nbformat_minor": 5
}
